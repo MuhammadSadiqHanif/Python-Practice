{
 "cells": [
  {
   "cell_type": "code",
   "execution_count": 2,
   "metadata": {},
   "outputs": [
    {
     "name": "stdout",
     "output_type": "stream",
     "text": [
      "Enter the radius to find Area Of Circle : 6\n",
      "Area Of the Circle of radius :  6  is :  113.097335544\n"
     ]
    }
   ],
   "source": [
    "#1. Calculate the Area Of Circle\n",
    "radius = input(\"Enter the radius to find Area Of Circle : \")\n",
    "Pi = 3.141592654\n",
    "AreaOfCircle = Pi * float(radius)**2\n",
    "print(\"Area Of the Circle of radius : \" , radius , \" is : \" , AreaOfCircle)"
   ]
  },
  {
   "cell_type": "code",
   "execution_count": 3,
   "metadata": {
    "scrolled": false
   },
   "outputs": [
    {
     "name": "stdout",
     "output_type": "stream",
     "text": [
      "Enter a Number : 5\n",
      "it is positive number\n"
     ]
    }
   ],
   "source": [
    "#2. Check Number either positive, negative or zero\n",
    "value = int(input(\"Enter a Number : \"))\n",
    "if value > 0 :\n",
    "    print(\"it is positive number\")\n",
    "elif value < 0 :\n",
    "    print(\"it a negative number\")\n",
    "else :\n",
    "    print(\"it is zero\")"
   ]
  },
  {
   "cell_type": "code",
   "execution_count": 1,
   "metadata": {
    "scrolled": false
   },
   "outputs": [
    {
     "name": "stdout",
     "output_type": "stream",
     "text": [
      "Enter a first Interger8\n",
      "<class 'int'>\n",
      "Enter a Second Integer5\n",
      "Number 8 is not completely divisiable by 5\n"
     ]
    }
   ],
   "source": [
    "#3. Divisibility Check of two numbers\n",
    "numerator = int(input(\"Enter a first Interger\"))\n",
    "print(type(numerator))\n",
    "denomenator = int(input(\"Enter a Second Integer\"))\n",
    "checkDivisible = numerator % denomenator\n",
    "if checkDivisible == 0:\n",
    "    print(\"Number {} is completely divisiable by {}\".format(numerator,denomenator))\n",
    "else :\n",
    "    print(\"Number {} is not completely divisiable by {}\".format(numerator,denomenator))\n"
   ]
  },
  {
   "cell_type": "code",
   "execution_count": null,
   "metadata": {
    "scrolled": false
   },
   "outputs": [],
   "source": [
    "#4. Days Calculator\n"
   ]
  },
  {
   "cell_type": "code",
   "execution_count": null,
   "metadata": {},
   "outputs": [],
   "source": []
  }
 ],
 "metadata": {
  "kernelspec": {
   "display_name": "Python 3",
   "language": "python",
   "name": "python3"
  },
  "language_info": {
   "codemirror_mode": {
    "name": "ipython",
    "version": 3
   },
   "file_extension": ".py",
   "mimetype": "text/x-python",
   "name": "python",
   "nbconvert_exporter": "python",
   "pygments_lexer": "ipython3",
   "version": "3.7.3"
  }
 },
 "nbformat": 4,
 "nbformat_minor": 2
}
