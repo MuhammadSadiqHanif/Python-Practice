{
 "cells": [
  {
   "cell_type": "code",
   "execution_count": 68,
   "metadata": {},
   "outputs": [],
   "source": [
    "li= [1,2,3,4,5,\"a\",\"b\",\"c\",\"d\"]"
   ]
  },
  {
   "cell_type": "code",
   "execution_count": 69,
   "metadata": {},
   "outputs": [
    {
     "ename": "ValueError",
     "evalue": "list.remove(x): x not in list",
     "output_type": "error",
     "traceback": [
      "\u001b[1;31m---------------------------------------------------------------------------\u001b[0m",
      "\u001b[1;31mValueError\u001b[0m                                Traceback (most recent call last)",
      "\u001b[1;32m<ipython-input-69-2305684579e6>\u001b[0m in \u001b[0;36m<module>\u001b[1;34m\u001b[0m\n\u001b[1;32m----> 1\u001b[1;33m \u001b[0mli\u001b[0m\u001b[1;33m.\u001b[0m\u001b[0mremove\u001b[0m\u001b[1;33m(\u001b[0m\u001b[1;34m\"e\"\u001b[0m\u001b[1;33m)\u001b[0m\u001b[1;33m\u001b[0m\u001b[1;33m\u001b[0m\u001b[0m\n\u001b[0m",
      "\u001b[1;31mValueError\u001b[0m: list.remove(x): x not in list"
     ]
    }
   ],
   "source": [
    "li.remove(\"e\")"
   ]
  },
  {
   "cell_type": "code",
   "execution_count": 70,
   "metadata": {},
   "outputs": [],
   "source": [
    "li.remove(\"d\") # this will search and delete d in list"
   ]
  },
  {
   "cell_type": "code",
   "execution_count": 71,
   "metadata": {},
   "outputs": [
    {
     "data": {
      "text/plain": [
       "[1, 2, 3, 4, 5, 'a', 'b', 'c']"
      ]
     },
     "execution_count": 71,
     "metadata": {},
     "output_type": "execute_result"
    }
   ],
   "source": [
    "li"
   ]
  },
  {
   "cell_type": "code",
   "execution_count": 72,
   "metadata": {},
   "outputs": [
    {
     "data": {
      "text/plain": [
       "[1, 2, 3, 4, 5, 'a', 'b']"
      ]
     },
     "execution_count": 72,
     "metadata": {},
     "output_type": "execute_result"
    }
   ],
   "source": [
    "li.pop() # this will remove the last index element\n",
    "li"
   ]
  },
  {
   "cell_type": "code",
   "execution_count": 73,
   "metadata": {},
   "outputs": [
    {
     "data": {
      "text/plain": [
       "2"
      ]
     },
     "execution_count": 73,
     "metadata": {},
     "output_type": "execute_result"
    }
   ],
   "source": [
    "li.pop(1) # in bracket this is index, it will delete the 1st index and return the deleted value"
   ]
  },
  {
   "cell_type": "markdown",
   "metadata": {},
   "source": [
    "li"
   ]
  },
  {
   "cell_type": "code",
   "execution_count": 22,
   "metadata": {},
   "outputs": [
    {
     "data": {
      "text/plain": [
       "[2, 4, 5, 'a', 'b']"
      ]
     },
     "execution_count": 22,
     "metadata": {},
     "output_type": "execute_result"
    }
   ],
   "source": [
    "# LIST SLICES\n",
    "li[1:] # this means that start list for 1 index then till end"
   ]
  },
  {
   "cell_type": "code",
   "execution_count": 24,
   "metadata": {},
   "outputs": [
    {
     "data": {
      "text/plain": [
       "[1, 2]"
      ]
     },
     "execution_count": 24,
     "metadata": {},
     "output_type": "execute_result"
    }
   ],
   "source": [
    "li[0:2] # this means that start with 0 index till 2nd index leaving the 2nd index"
   ]
  },
  {
   "cell_type": "code",
   "execution_count": 25,
   "metadata": {},
   "outputs": [
    {
     "data": {
      "text/plain": [
       "[1, 2, 4, 5, 'a', 'b']"
      ]
     },
     "execution_count": 25,
     "metadata": {},
     "output_type": "execute_result"
    }
   ],
   "source": [
    "li"
   ]
  },
  {
   "cell_type": "code",
   "execution_count": 29,
   "metadata": {},
   "outputs": [
    {
     "data": {
      "text/plain": [
       "'b'"
      ]
     },
     "execution_count": 29,
     "metadata": {},
     "output_type": "execute_result"
    }
   ],
   "source": [
    "li[-1] # this means the last index"
   ]
  },
  {
   "cell_type": "code",
   "execution_count": 30,
   "metadata": {},
   "outputs": [
    {
     "data": {
      "text/plain": [
       "[1, 2, 4, 5, 'a', 'b']"
      ]
     },
     "execution_count": 30,
     "metadata": {},
     "output_type": "execute_result"
    }
   ],
   "source": [
    "li"
   ]
  },
  {
   "cell_type": "code",
   "execution_count": 32,
   "metadata": {},
   "outputs": [
    {
     "data": {
      "text/plain": [
       "[1, 2, 4]"
      ]
     },
     "execution_count": 32,
     "metadata": {},
     "output_type": "execute_result"
    }
   ],
   "source": [
    "li[:3] # this means new list starts with 0 and end till 3 index but leaves 3rd one"
   ]
  },
  {
   "cell_type": "code",
   "execution_count": 33,
   "metadata": {},
   "outputs": [
    {
     "data": {
      "text/plain": [
       "[1, 2, 4, 5, 'a', 'b']"
      ]
     },
     "execution_count": 33,
     "metadata": {},
     "output_type": "execute_result"
    }
   ],
   "source": [
    "li[:] # show complete list"
   ]
  },
  {
   "cell_type": "code",
   "execution_count": 76,
   "metadata": {},
   "outputs": [
    {
     "data": {
      "text/plain": [
       "[1, 3, 4, 5, 'a', 'b']"
      ]
     },
     "execution_count": 76,
     "metadata": {},
     "output_type": "execute_result"
    }
   ],
   "source": [
    "li"
   ]
  },
  {
   "cell_type": "code",
   "execution_count": 80,
   "metadata": {},
   "outputs": [
    {
     "data": {
      "text/plain": [
       "3"
      ]
     },
     "execution_count": 80,
     "metadata": {},
     "output_type": "execute_result"
    }
   ],
   "source": [
    "li.index(5) # this will find the word ot letter first instance and return index of it"
   ]
  },
  {
   "cell_type": "code",
   "execution_count": 81,
   "metadata": {},
   "outputs": [
    {
     "data": {
      "text/plain": [
       "[1, 3, 4, 5, 'a', 'b']"
      ]
     },
     "execution_count": 81,
     "metadata": {},
     "output_type": "execute_result"
    }
   ],
   "source": [
    "li"
   ]
  },
  {
   "cell_type": "code",
   "execution_count": 83,
   "metadata": {},
   "outputs": [
    {
     "data": {
      "text/plain": [
       "True"
      ]
     },
     "execution_count": 83,
     "metadata": {},
     "output_type": "execute_result"
    }
   ],
   "source": [
    "3 in li # this will check for 3 in list and return true"
   ]
  },
  {
   "cell_type": "code",
   "execution_count": 105,
   "metadata": {},
   "outputs": [],
   "source": [
    "li =[1, 3, 4, 5, 'a', 'b', 'c']"
   ]
  },
  {
   "cell_type": "code",
   "execution_count": 106,
   "metadata": {},
   "outputs": [],
   "source": [
    "li = li + [\"sure\"]"
   ]
  },
  {
   "cell_type": "code",
   "execution_count": 107,
   "metadata": {},
   "outputs": [],
   "source": [
    "li += [\"d\",\"e\"]"
   ]
  },
  {
   "cell_type": "code",
   "execution_count": 108,
   "metadata": {},
   "outputs": [
    {
     "data": {
      "text/plain": [
       "[1, 3, 4, 5, 'a', 'b', 'c', 'sure', 'd', 'e']"
      ]
     },
     "execution_count": 108,
     "metadata": {},
     "output_type": "execute_result"
    }
   ],
   "source": [
    "li"
   ]
  },
  {
   "cell_type": "code",
   "execution_count": 109,
   "metadata": {},
   "outputs": [
    {
     "data": {
      "text/plain": [
       "[1,\n",
       " 3,\n",
       " 4,\n",
       " 5,\n",
       " 'a',\n",
       " 'b',\n",
       " 'c',\n",
       " 'sure',\n",
       " 'd',\n",
       " 'e',\n",
       " 1,\n",
       " 3,\n",
       " 4,\n",
       " 5,\n",
       " 'a',\n",
       " 'b',\n",
       " 'c',\n",
       " 'sure',\n",
       " 'd',\n",
       " 'e']"
      ]
     },
     "execution_count": 109,
     "metadata": {},
     "output_type": "execute_result"
    }
   ],
   "source": [
    "li *= 2 # this will genterate two times the value of the list\n",
    "li"
   ]
  },
  {
   "cell_type": "code",
   "execution_count": 149,
   "metadata": {},
   "outputs": [
    {
     "data": {
      "text/plain": [
       "[3, 4, 5, 'a']"
      ]
     },
     "execution_count": 149,
     "metadata": {},
     "output_type": "execute_result"
    }
   ],
   "source": [
    "li[1:5] # start for 1st index and end till 5th index but not take 5th index"
   ]
  },
  {
   "cell_type": "code",
   "execution_count": 124,
   "metadata": {},
   "outputs": [
    {
     "data": {
      "text/plain": [
       "[5, 'a', 'b', 'c', 'sure', 'd']"
      ]
     },
     "execution_count": 124,
     "metadata": {},
     "output_type": "execute_result"
    }
   ],
   "source": [
    "li[-7:19] # this will start from last 7th till end from starting to 19th index this also means li[-7:-1]"
   ]
  },
  {
   "cell_type": "code",
   "execution_count": 125,
   "metadata": {},
   "outputs": [
    {
     "data": {
      "text/plain": [
       "[5, 'a', 'b', 'c', 'sure', 'd']"
      ]
     },
     "execution_count": 125,
     "metadata": {},
     "output_type": "execute_result"
    }
   ],
   "source": [
    "li[-7:-1]"
   ]
  },
  {
   "cell_type": "code",
   "execution_count": 126,
   "metadata": {},
   "outputs": [
    {
     "data": {
      "text/plain": [
       "[1,\n",
       " 3,\n",
       " 4,\n",
       " 5,\n",
       " 'a',\n",
       " 'b',\n",
       " 'c',\n",
       " 'sure',\n",
       " 'd',\n",
       " 'e',\n",
       " 1,\n",
       " 3,\n",
       " 4,\n",
       " 5,\n",
       " 'a',\n",
       " 'b',\n",
       " 'c',\n",
       " 'sure',\n",
       " 'd',\n",
       " 'e']"
      ]
     },
     "execution_count": 126,
     "metadata": {},
     "output_type": "execute_result"
    }
   ],
   "source": [
    "li"
   ]
  },
  {
   "cell_type": "code",
   "execution_count": 130,
   "metadata": {},
   "outputs": [
    {
     "data": {
      "text/plain": [
       "[1, 4, 'a', 'c', 'd', 1, 4, 'a', 'c', 'd']"
      ]
     },
     "execution_count": 130,
     "metadata": {},
     "output_type": "execute_result"
    }
   ],
   "source": [
    "li[::2] # it strat with starting and then take 2nd element every time, takes 1 the leave 3(because of the 2nd elemet) and take 4 ans so on (the third parameter is step parameter) "
   ]
  },
  {
   "cell_type": "code",
   "execution_count": 132,
   "metadata": {},
   "outputs": [
    {
     "data": {
      "text/plain": [
       "[1, 5, 'c', 'e', 4, 'b', 'd']"
      ]
     },
     "execution_count": 132,
     "metadata": {},
     "output_type": "execute_result"
    }
   ],
   "source": [
    "li[::3]  # [1,5,\"c\",\"e\",4,\"b\",\"d\"] start from starting and count 5th element "
   ]
  },
  {
   "cell_type": "code",
   "execution_count": 133,
   "metadata": {},
   "outputs": [
    {
     "data": {
      "text/plain": [
       "[4, 'b', 'd', 3, 'a', 'sure']"
      ]
     },
     "execution_count": 133,
     "metadata": {},
     "output_type": "execute_result"
    }
   ],
   "source": [
    "li[2::3] #[4,\"b\",\"d\",3,\"a\",\"sure\"]"
   ]
  },
  {
   "cell_type": "code",
   "execution_count": 134,
   "metadata": {},
   "outputs": [
    {
     "data": {
      "text/plain": [
       "[4,\n",
       " 5,\n",
       " 'a',\n",
       " 'b',\n",
       " 'c',\n",
       " 'sure',\n",
       " 'd',\n",
       " 'e',\n",
       " 1,\n",
       " 3,\n",
       " 4,\n",
       " 5,\n",
       " 'a',\n",
       " 'b',\n",
       " 'c',\n",
       " 'sure',\n",
       " 'd',\n",
       " 'e']"
      ]
     },
     "execution_count": 134,
     "metadata": {},
     "output_type": "execute_result"
    }
   ],
   "source": [
    "li[2::1]"
   ]
  },
  {
   "cell_type": "code",
   "execution_count": 136,
   "metadata": {},
   "outputs": [
    {
     "data": {
      "text/plain": [
       "['e',\n",
       " 'd',\n",
       " 'sure',\n",
       " 'c',\n",
       " 'b',\n",
       " 'a',\n",
       " 5,\n",
       " 4,\n",
       " 3,\n",
       " 1,\n",
       " 'e',\n",
       " 'd',\n",
       " 'sure',\n",
       " 'c',\n",
       " 'b',\n",
       " 'a',\n",
       " 5,\n",
       " 4,\n",
       " 3,\n",
       " 1]"
      ]
     },
     "execution_count": 136,
     "metadata": {},
     "output_type": "execute_result"
    }
   ],
   "source": [
    "li[::-1] # if we put - sign in third parament (step paramenter) it will reversed the list"
   ]
  },
  {
   "cell_type": "code",
   "execution_count": 137,
   "metadata": {},
   "outputs": [
    {
     "data": {
      "text/plain": [
       "[1,\n",
       " 3,\n",
       " 4,\n",
       " 5,\n",
       " 'a',\n",
       " 'b',\n",
       " 'c',\n",
       " 'sure',\n",
       " 'd',\n",
       " 'e',\n",
       " 1,\n",
       " 3,\n",
       " 4,\n",
       " 5,\n",
       " 'a',\n",
       " 'b',\n",
       " 'c',\n",
       " 'sure',\n",
       " 'd',\n",
       " 'e']"
      ]
     },
     "execution_count": 137,
     "metadata": {},
     "output_type": "execute_result"
    }
   ],
   "source": [
    "li"
   ]
  },
  {
   "cell_type": "code",
   "execution_count": 146,
   "metadata": {},
   "outputs": [
    {
     "data": {
      "text/plain": [
       "['b', 5, 3]"
      ]
     },
     "execution_count": 146,
     "metadata": {},
     "output_type": "execute_result"
    }
   ],
   "source": [
    "li[5::-2] # output is [\"b\",5,3] because its a reverse order it will start form 5th index \"b\" then every 2nd but reversed order 5 the 3"
   ]
  },
  {
   "cell_type": "code",
   "execution_count": 148,
   "metadata": {},
   "outputs": [
    {
     "data": {
      "text/plain": [
       "[5, 1]"
      ]
     },
     "execution_count": 148,
     "metadata": {},
     "output_type": "execute_result"
    }
   ],
   "source": [
    "li[3::-3] # [5,1] strats for 3rd index is 3 and count 3rd reversed and take 1 "
   ]
  },
  {
   "cell_type": "code",
   "execution_count": 156,
   "metadata": {},
   "outputs": [
    {
     "data": {
      "text/plain": [
       "['blue', 'yellow', 'white', 'black', 'silver']"
      ]
     },
     "execution_count": 156,
     "metadata": {},
     "output_type": "execute_result"
    }
   ],
   "source": [
    "five_items_after_second = slice(2, 7)\n",
    "nums = [10, 20, 30, 40, 50, 60, 70, 80, 90]\n",
    "colors = ['red', 'green', 'blue', 'yellow', 'white', 'black', 'silver']\n",
    "nums[five_items_after_second]\n",
    "# nums\n",
    "# [30, 40, 50, 60, 70]\n",
    "colors[five_items_after_second]\n",
    "# ['blue', 'yellow', 'white', 'black', 'silver']"
   ]
  },
  {
   "cell_type": "code",
   "execution_count": 163,
   "metadata": {},
   "outputs": [
    {
     "data": {
      "text/plain": [
       "[20, 40]"
      ]
     },
     "execution_count": 163,
     "metadata": {},
     "output_type": "execute_result"
    }
   ],
   "source": [
    "nums = [10, 20, 30, 40, 50, 60, 70, 80, 90]\n",
    "x=nums[1:5] # output [20,30,40,50]\n",
    "x[::2]"
   ]
  },
  {
   "cell_type": "code",
   "execution_count": 164,
   "metadata": {},
   "outputs": [
    {
     "data": {
      "text/plain": [
       "[1,\n",
       " 3,\n",
       " 4,\n",
       " 5,\n",
       " 'a',\n",
       " 'b',\n",
       " 'c',\n",
       " 'sure',\n",
       " 'd',\n",
       " 'e',\n",
       " 1,\n",
       " 3,\n",
       " 4,\n",
       " 5,\n",
       " 'a',\n",
       " 'b',\n",
       " 'c',\n",
       " 'sure',\n",
       " 'd',\n",
       " 'e']"
      ]
     },
     "execution_count": 164,
     "metadata": {},
     "output_type": "execute_result"
    }
   ],
   "source": [
    "li"
   ]
  },
  {
   "cell_type": "code",
   "execution_count": 168,
   "metadata": {},
   "outputs": [],
   "source": [
    "del li[:3] # for deleting\n"
   ]
  },
  {
   "cell_type": "code",
   "execution_count": 169,
   "metadata": {},
   "outputs": [
    {
     "data": {
      "text/plain": [
       "['e', 1, 3, 4, 5, 'a', 'b', 'c', 'sure', 'd', 'e']"
      ]
     },
     "execution_count": 169,
     "metadata": {},
     "output_type": "execute_result"
    }
   ],
   "source": [
    "li"
   ]
  },
  {
   "cell_type": "code",
   "execution_count": 170,
   "metadata": {},
   "outputs": [],
   "source": [
    "del li[0]"
   ]
  },
  {
   "cell_type": "code",
   "execution_count": 171,
   "metadata": {},
   "outputs": [
    {
     "data": {
      "text/plain": [
       "[1, 3, 4, 5, 'a', 'b', 'c', 'sure', 'd', 'e']"
      ]
     },
     "execution_count": 171,
     "metadata": {},
     "output_type": "execute_result"
    }
   ],
   "source": [
    "li"
   ]
  },
  {
   "cell_type": "code",
   "execution_count": 173,
   "metadata": {},
   "outputs": [
    {
     "data": {
      "text/plain": [
       "[1, 5, 'a', 'b', 'c', 'sure', 'd', 'e']"
      ]
     },
     "execution_count": 173,
     "metadata": {},
     "output_type": "execute_result"
    }
   ],
   "source": [
    "li.pop(1)\n",
    "li"
   ]
  },
  {
   "cell_type": "code",
   "execution_count": 174,
   "metadata": {},
   "outputs": [],
   "source": [
    "tp = ()"
   ]
  },
  {
   "cell_type": "code",
   "execution_count": 175,
   "metadata": {},
   "outputs": [],
   "source": [
    "tp = li"
   ]
  },
  {
   "cell_type": "code",
   "execution_count": 176,
   "metadata": {},
   "outputs": [
    {
     "data": {
      "text/plain": [
       "[1, 5, 'a', 'b', 'c', 'sure', 'd', 'e']"
      ]
     },
     "execution_count": 176,
     "metadata": {},
     "output_type": "execute_result"
    }
   ],
   "source": [
    "tp"
   ]
  },
  {
   "cell_type": "code",
   "execution_count": 177,
   "metadata": {},
   "outputs": [],
   "source": [
    "tp= (1, 5, 'a', 'b', 'c', 'sure', 'd', 'e')"
   ]
  },
  {
   "cell_type": "code",
   "execution_count": 178,
   "metadata": {},
   "outputs": [
    {
     "data": {
      "text/plain": [
       "('e', 'd', 'sure', 'c', 'b', 'a', 5, 1)"
      ]
     },
     "execution_count": 178,
     "metadata": {},
     "output_type": "execute_result"
    }
   ],
   "source": [
    "tp[::-1]"
   ]
  },
  {
   "cell_type": "code",
   "execution_count": 179,
   "metadata": {},
   "outputs": [
    {
     "data": {
      "text/plain": [
       "(5, 'a', 'b', 'c')"
      ]
     },
     "execution_count": 179,
     "metadata": {},
     "output_type": "execute_result"
    }
   ],
   "source": [
    "tp[1:5]"
   ]
  },
  {
   "cell_type": "code",
   "execution_count": 196,
   "metadata": {},
   "outputs": [
    {
     "data": {
      "text/plain": [
       "[1, 5, 'a', 'b', 'c', 'sure', 'd', 'e']"
      ]
     },
     "execution_count": 196,
     "metadata": {},
     "output_type": "execute_result"
    }
   ],
   "source": [
    "l = tp[1:5]\n",
    "li\n",
    "l[::-1]\n",
    "li"
   ]
  },
  {
   "cell_type": "code",
   "execution_count": 199,
   "metadata": {},
   "outputs": [
    {
     "data": {
      "text/plain": [
       "2"
      ]
     },
     "execution_count": 199,
     "metadata": {},
     "output_type": "execute_result"
    }
   ],
   "source": [
    "tp.index(\"a\")"
   ]
  },
  {
   "cell_type": "code",
   "execution_count": 200,
   "metadata": {},
   "outputs": [
    {
     "data": {
      "text/plain": [
       "'Hello World I Am Writing Python'"
      ]
     },
     "execution_count": 200,
     "metadata": {},
     "output_type": "execute_result"
    }
   ],
   "source": [
    "sampleStr = \"hello world i am writing python\"\n",
    "s= sampleStr.title()\n",
    "s"
   ]
  },
  {
   "cell_type": "code",
   "execution_count": 201,
   "metadata": {},
   "outputs": [
    {
     "ename": "AttributeError",
     "evalue": "'tuple' object has no attribute 'append'",
     "output_type": "error",
     "traceback": [
      "\u001b[1;31m---------------------------------------------------------------------------\u001b[0m",
      "\u001b[1;31mAttributeError\u001b[0m                            Traceback (most recent call last)",
      "\u001b[1;32m<ipython-input-201-9d503032cc7b>\u001b[0m in \u001b[0;36m<module>\u001b[1;34m\u001b[0m\n\u001b[0;32m      1\u001b[0m \u001b[0mtp\u001b[0m \u001b[1;33m=\u001b[0m\u001b[1;33m(\u001b[0m\u001b[1;33m)\u001b[0m\u001b[1;33m\u001b[0m\u001b[1;33m\u001b[0m\u001b[0m\n\u001b[1;32m----> 2\u001b[1;33m \u001b[0mtp\u001b[0m\u001b[1;33m.\u001b[0m\u001b[0mappend\u001b[0m\u001b[1;33m(\u001b[0m\u001b[1;34m\"aa\"\u001b[0m\u001b[1;33m)\u001b[0m\u001b[1;33m\u001b[0m\u001b[1;33m\u001b[0m\u001b[0m\n\u001b[0m",
      "\u001b[1;31mAttributeError\u001b[0m: 'tuple' object has no attribute 'append'"
     ]
    }
   ],
   "source": [
    "tp =()\n",
    "tp.append(\"aa\")"
   ]
  },
  {
   "cell_type": "code",
   "execution_count": 202,
   "metadata": {},
   "outputs": [
    {
     "data": {
      "text/plain": [
       "[1, 5, 'a', 'b', 'c', 'sure', 'd', 'e']"
      ]
     },
     "execution_count": 202,
     "metadata": {},
     "output_type": "execute_result"
    }
   ],
   "source": [
    "li"
   ]
  },
  {
   "cell_type": "code",
   "execution_count": 208,
   "metadata": {},
   "outputs": [
    {
     "name": "stdout",
     "output_type": "stream",
     "text": [
      "[1, 5, 'a', 'b', 'c', 'sure', 'd', 'e']\n"
     ]
    },
    {
     "data": {
      "text/plain": [
       "(1, 5, 'a', 'b', 'c', 'sure', 'd', 'e')"
      ]
     },
     "execution_count": 208,
     "metadata": {},
     "output_type": "execute_result"
    }
   ],
   "source": [
    "a=tuple(li)\n",
    "print (li)\n",
    "a"
   ]
  },
  {
   "cell_type": "code",
   "execution_count": 212,
   "metadata": {},
   "outputs": [
    {
     "data": {
      "text/plain": [
       "{'fname': 'sadiq', 'lname': 'hanif', 'age': 22, 'study': 'PIAIC'}"
      ]
     },
     "execution_count": 212,
     "metadata": {},
     "output_type": "execute_result"
    }
   ],
   "source": [
    "# Dictionaries\n",
    "dic = {\"fname\": \"sadiq\",\n",
    "      \"lname\" : \"hanif\",\n",
    "       \"age\" : 22,\n",
    "       \"study\"  : \"PIAIC\"\n",
    "      }\n",
    "dic"
   ]
  },
  {
   "cell_type": "code",
   "execution_count": 216,
   "metadata": {},
   "outputs": [
    {
     "data": {
      "text/plain": [
       "'sadiq'"
      ]
     },
     "execution_count": 216,
     "metadata": {},
     "output_type": "execute_result"
    }
   ],
   "source": [
    "dic[\"fname\"]"
   ]
  },
  {
   "cell_type": "code",
   "execution_count": 217,
   "metadata": {},
   "outputs": [
    {
     "data": {
      "text/plain": [
       "dict_keys(['fname', 'lname', 'age', 'study'])"
      ]
     },
     "execution_count": 217,
     "metadata": {},
     "output_type": "execute_result"
    }
   ],
   "source": [
    "dic.keys()"
   ]
  },
  {
   "cell_type": "code",
   "execution_count": 218,
   "metadata": {},
   "outputs": [
    {
     "data": {
      "text/plain": [
       "dict_values(['sadiq', 'hanif', 22, 'PIAIC'])"
      ]
     },
     "execution_count": 218,
     "metadata": {},
     "output_type": "execute_result"
    }
   ],
   "source": [
    "dic.values()"
   ]
  },
  {
   "cell_type": "code",
   "execution_count": 224,
   "metadata": {},
   "outputs": [
    {
     "name": "stdout",
     "output_type": "stream",
     "text": [
      "sadiq\n",
      "hanif\n",
      "22\n",
      "PIAIC\n"
     ]
    }
   ],
   "source": [
    "for eachKey in dic:\n",
    "    print(dic[eachKey])"
   ]
  },
  {
   "cell_type": "code",
   "execution_count": 225,
   "metadata": {},
   "outputs": [
    {
     "name": "stdout",
     "output_type": "stream",
     "text": [
      "sadiq\n",
      "hanif\n",
      "22\n",
      "PIAIC\n"
     ]
    }
   ],
   "source": [
    "for eachKey in dic.values():\n",
    "    print(eachKey)"
   ]
  },
  {
   "cell_type": "code",
   "execution_count": 227,
   "metadata": {},
   "outputs": [
    {
     "name": "stdout",
     "output_type": "stream",
     "text": [
      "fname\n",
      "lname\n",
      "age\n",
      "study\n"
     ]
    }
   ],
   "source": [
    "for eachKey in dic.keys():\n",
    "    print(eachKey)"
   ]
  },
  {
   "cell_type": "code",
   "execution_count": 231,
   "metadata": {},
   "outputs": [
    {
     "name": "stdout",
     "output_type": "stream",
     "text": [
      "('fname', 'sadiq')\n",
      "('lname', 'hanif')\n",
      "('age', 22)\n",
      "('study', 'PIAIC')\n"
     ]
    }
   ],
   "source": [
    "for eachkey in dic.items():\n",
    "    print(eachkey)"
   ]
  },
  {
   "cell_type": "code",
   "execution_count": 232,
   "metadata": {},
   "outputs": [
    {
     "data": {
      "text/plain": [
       "dict_items([('fname', 'sadiq'), ('lname', 'hanif'), ('age', 22), ('study', 'PIAIC')])"
      ]
     },
     "execution_count": 232,
     "metadata": {},
     "output_type": "execute_result"
    }
   ],
   "source": [
    "dic.items()"
   ]
  },
  {
   "cell_type": "code",
   "execution_count": 240,
   "metadata": {},
   "outputs": [
    {
     "name": "stdout",
     "output_type": "stream",
     "text": [
      "fname ,========> sadiq\n",
      "lname ,========> hanif\n",
      "age ,========> 22\n",
      "study ,========> PIAIC\n"
     ]
    }
   ],
   "source": [
    "for eachKey, eachValue in dic.items():\n",
    "    print(eachKey,\",========>\" ,eachValue)"
   ]
  },
  {
   "cell_type": "code",
   "execution_count": 246,
   "metadata": {},
   "outputs": [
    {
     "ename": "ValueError",
     "evalue": "too many values to unpack (expected 2)",
     "output_type": "error",
     "traceback": [
      "\u001b[1;31m---------------------------------------------------------------------------\u001b[0m",
      "\u001b[1;31mValueError\u001b[0m                                Traceback (most recent call last)",
      "\u001b[1;32m<ipython-input-246-8e9d5dd24829>\u001b[0m in \u001b[0;36m<module>\u001b[1;34m\u001b[0m\n\u001b[1;32m----> 1\u001b[1;33m \u001b[1;32mfor\u001b[0m \u001b[0meachKey\u001b[0m\u001b[1;33m,\u001b[0m \u001b[0meachValue\u001b[0m \u001b[1;32min\u001b[0m \u001b[0mdic\u001b[0m\u001b[1;33m:\u001b[0m\u001b[1;33m\u001b[0m\u001b[1;33m\u001b[0m\u001b[0m\n\u001b[0m\u001b[0;32m      2\u001b[0m     \u001b[0mprint\u001b[0m\u001b[1;33m(\u001b[0m\u001b[0meachKey\u001b[0m \u001b[1;33m,\u001b[0m\u001b[1;34m\"=====>\"\u001b[0m \u001b[1;34m\"eachValue\"\u001b[0m\u001b[1;33m)\u001b[0m\u001b[1;33m\u001b[0m\u001b[1;33m\u001b[0m\u001b[0m\n",
      "\u001b[1;31mValueError\u001b[0m: too many values to unpack (expected 2)"
     ]
    }
   ],
   "source": [
    "for eachKey, eachValue in dic: # cannot take two values by default way\n",
    "    print(eachKey ,\"=====>\" \"eachValue\")"
   ]
  },
  {
   "cell_type": "code",
   "execution_count": 247,
   "metadata": {},
   "outputs": [
    {
     "data": {
      "text/plain": [
       "{'fname': 'sadiq', 'lname': 'hanif', 'age': 22, 'study': 'PIAIC'}"
      ]
     },
     "execution_count": 247,
     "metadata": {},
     "output_type": "execute_result"
    }
   ],
   "source": [
    "dic"
   ]
  },
  {
   "cell_type": "code",
   "execution_count": 248,
   "metadata": {},
   "outputs": [],
   "source": [
    "detailDic =[\n",
    "    {\n",
    "    'fname': 'sadiq',\n",
    "    'lname': 'hanif',\n",
    "    'age': 22,\n",
    "    'study': 'PIAIC'\n",
    "},{\n",
    "    'fname': 'shoaib',\n",
    "    'lname': 'hanif',\n",
    "    'age': 34,\n",
    "    'study': 'PIAIC'\n",
    "},{\n",
    "    'fname': 'talha',\n",
    "    'lname': 'hanif',\n",
    "    'age': 18,\n",
    "    'study': 'Saylani'\n",
    "},{\n",
    "    'fname': 'Amin',\n",
    "    'lname': 'hanif',\n",
    "    'age': 25,\n",
    "    'study': 'Memon Fedration'\n",
    "},\n",
    "]"
   ]
  },
  {
   "cell_type": "code",
   "execution_count": 249,
   "metadata": {},
   "outputs": [
    {
     "name": "stdout",
     "output_type": "stream",
     "text": [
      "sadiq\n"
     ]
    }
   ],
   "source": [
    "print(detailDic[0][\"fname\"])"
   ]
  },
  {
   "cell_type": "code",
   "execution_count": 250,
   "metadata": {},
   "outputs": [
    {
     "name": "stdout",
     "output_type": "stream",
     "text": [
      "shoaib\n"
     ]
    }
   ],
   "source": [
    "print(detailDic[1][\"fname\"])"
   ]
  },
  {
   "cell_type": "code",
   "execution_count": 256,
   "metadata": {},
   "outputs": [
    {
     "data": {
      "text/plain": [
       "3.75"
      ]
     },
     "execution_count": 256,
     "metadata": {},
     "output_type": "execute_result"
    }
   ],
   "source": [
    "15/4"
   ]
  },
  {
   "cell_type": "code",
   "execution_count": 257,
   "metadata": {},
   "outputs": [
    {
     "data": {
      "text/plain": [
       "3"
      ]
     },
     "execution_count": 257,
     "metadata": {},
     "output_type": "execute_result"
    }
   ],
   "source": [
    "15 // 4 # IT WILL floor the value (floor division)"
   ]
  },
  {
   "cell_type": "code",
   "execution_count": 259,
   "metadata": {},
   "outputs": [
    {
     "data": {
      "text/plain": [
       "8"
      ]
     },
     "execution_count": 259,
     "metadata": {},
     "output_type": "execute_result"
    }
   ],
   "source": [
    "2**3 # 2* 2 *2 =8  or 2 power 3"
   ]
  },
  {
   "cell_type": "code",
   "execution_count": 260,
   "metadata": {},
   "outputs": [
    {
     "name": "stdout",
     "output_type": "stream",
     "text": [
      "MArk\n"
     ]
    }
   ],
   "source": [
    "# converting one data type to other data type is called TYPE CASTING\n",
    "\n",
    "name = \"MArk\"\n",
    "print(name)"
   ]
  },
  {
   "cell_type": "code",
   "execution_count": 261,
   "metadata": {},
   "outputs": [
    {
     "data": {
      "text/plain": [
       "4"
      ]
     },
     "execution_count": 261,
     "metadata": {},
     "output_type": "execute_result"
    }
   ],
   "source": [
    "2+2"
   ]
  },
  {
   "cell_type": "code",
   "execution_count": 265,
   "metadata": {},
   "outputs": [
    {
     "data": {
      "text/plain": [
       "0.5"
      ]
     },
     "execution_count": 265,
     "metadata": {},
     "output_type": "execute_result"
    }
   ],
   "source": [
    "num1 =2\n",
    "num2 =4\n",
    "num1 / num2"
   ]
  },
  {
   "cell_type": "code",
   "execution_count": 266,
   "metadata": {},
   "outputs": [],
   "source": [
    "true =\"saa\""
   ]
  },
  {
   "cell_type": "code",
   "execution_count": 267,
   "metadata": {},
   "outputs": [
    {
     "data": {
      "text/plain": [
       "'saa'"
      ]
     },
     "execution_count": 267,
     "metadata": {},
     "output_type": "execute_result"
    }
   ],
   "source": [
    "true"
   ]
  },
  {
   "cell_type": "code",
   "execution_count": 268,
   "metadata": {},
   "outputs": [
    {
     "data": {
      "text/plain": [
       "1"
      ]
     },
     "execution_count": 268,
     "metadata": {},
     "output_type": "execute_result"
    }
   ],
   "source": [
    "10%3 remainder modulus"
   ]
  },
  {
   "cell_type": "code",
   "execution_count": 269,
   "metadata": {},
   "outputs": [
    {
     "data": {
      "text/plain": [
       "3.3333333333333335"
      ]
     },
     "execution_count": 269,
     "metadata": {},
     "output_type": "execute_result"
    }
   ],
   "source": [
    "10/3 10-9=1"
   ]
  },
  {
   "cell_type": "code",
   "execution_count": 270,
   "metadata": {},
   "outputs": [
    {
     "data": {
      "text/plain": [
       "3.75"
      ]
     },
     "execution_count": 270,
     "metadata": {},
     "output_type": "execute_result"
    }
   ],
   "source": [
    "15/4"
   ]
  },
  {
   "cell_type": "code",
   "execution_count": 271,
   "metadata": {},
   "outputs": [
    {
     "data": {
      "text/plain": [
       "3"
      ]
     },
     "execution_count": 271,
     "metadata": {},
     "output_type": "execute_result"
    }
   ],
   "source": [
    "15%4"
   ]
  },
  {
   "cell_type": "code",
   "execution_count": 272,
   "metadata": {},
   "outputs": [
    {
     "data": {
      "text/plain": [
       "2"
      ]
     },
     "execution_count": 272,
     "metadata": {},
     "output_type": "execute_result"
    }
   ],
   "source": [
    "num1"
   ]
  },
  {
   "cell_type": "code",
   "execution_count": 273,
   "metadata": {},
   "outputs": [
    {
     "data": {
      "text/plain": [
       "4"
      ]
     },
     "execution_count": 273,
     "metadata": {},
     "output_type": "execute_result"
    }
   ],
   "source": [
    "num2"
   ]
  },
  {
   "cell_type": "code",
   "execution_count": 276,
   "metadata": {},
   "outputs": [
    {
     "data": {
      "text/plain": [
       "4"
      ]
     },
     "execution_count": 276,
     "metadata": {},
     "output_type": "execute_result"
    }
   ],
   "source": [
    "num1+1"
   ]
  },
  {
   "cell_type": "code",
   "execution_count": 277,
   "metadata": {},
   "outputs": [
    {
     "name": "stdout",
     "output_type": "stream",
     "text": [
      "4\n"
     ]
    }
   ],
   "source": [
    "num1 = num1+1 # num1 += 1\n",
    "print(num1)"
   ]
  },
  {
   "cell_type": "code",
   "execution_count": 278,
   "metadata": {},
   "outputs": [],
   "source": [
    "num1 += 1"
   ]
  },
  {
   "cell_type": "code",
   "execution_count": 279,
   "metadata": {},
   "outputs": [
    {
     "data": {
      "text/plain": [
       "5"
      ]
     },
     "execution_count": 279,
     "metadata": {},
     "output_type": "execute_result"
    }
   ],
   "source": [
    "num1"
   ]
  },
  {
   "cell_type": "code",
   "execution_count": 280,
   "metadata": {},
   "outputs": [
    {
     "data": {
      "text/plain": [
       "36"
      ]
     },
     "execution_count": 280,
     "metadata": {},
     "output_type": "execute_result"
    }
   ],
   "source": [
    "age = 12\n",
    "age *= 3 \n",
    "age"
   ]
  },
  {
   "cell_type": "code",
   "execution_count": 281,
   "metadata": {},
   "outputs": [
    {
     "data": {
      "text/plain": [
       "13"
      ]
     },
     "execution_count": 281,
     "metadata": {},
     "output_type": "execute_result"
    }
   ],
   "source": [
    "1+4*3"
   ]
  },
  {
   "cell_type": "code",
   "execution_count": 282,
   "metadata": {},
   "outputs": [
    {
     "data": {
      "text/plain": [
       "34"
      ]
     },
     "execution_count": 282,
     "metadata": {},
     "output_type": "execute_result"
    }
   ],
   "source": [
    "((2 * 4) * 4) + 2 #usama 130  sadiq 34"
   ]
  },
  {
   "cell_type": "code",
   "execution_count": 283,
   "metadata": {},
   "outputs": [
    {
     "data": {
      "text/plain": [
       "48"
      ]
     },
     "execution_count": 283,
     "metadata": {},
     "output_type": "execute_result"
    }
   ],
   "source": [
    "(2 * 4) * (4 + 2) # usama 48 sadiq48"
   ]
  },
  {
   "cell_type": "code",
   "execution_count": 294,
   "metadata": {},
   "outputs": [],
   "source": [
    "greeting = \"Hello\"\n",
    "addressee = 2"
   ]
  },
  {
   "cell_type": "code",
   "execution_count": 295,
   "metadata": {},
   "outputs": [
    {
     "ename": "TypeError",
     "evalue": "can only concatenate str (not \"int\") to str",
     "output_type": "error",
     "traceback": [
      "\u001b[1;31m---------------------------------------------------------------------------\u001b[0m",
      "\u001b[1;31mTypeError\u001b[0m                                 Traceback (most recent call last)",
      "\u001b[1;32m<ipython-input-295-0a516772969c>\u001b[0m in \u001b[0;36m<module>\u001b[1;34m\u001b[0m\n\u001b[1;32m----> 1\u001b[1;33m \u001b[0mwhole\u001b[0m \u001b[1;33m=\u001b[0m \u001b[0mgreeting\u001b[0m \u001b[1;33m+\u001b[0m \u001b[0maddressee\u001b[0m\u001b[1;33m\u001b[0m\u001b[1;33m\u001b[0m\u001b[0m\n\u001b[0m\u001b[0;32m      2\u001b[0m \u001b[0mwhole\u001b[0m\u001b[1;33m\u001b[0m\u001b[1;33m\u001b[0m\u001b[0m\n",
      "\u001b[1;31mTypeError\u001b[0m: can only concatenate str (not \"int\") to str"
     ]
    }
   ],
   "source": [
    "whole = greeting + addressee\n",
    "whole"
   ]
  },
  {
   "cell_type": "code",
   "execution_count": 296,
   "metadata": {},
   "outputs": [
    {
     "ename": "TypeError",
     "evalue": "can only concatenate str (not \"int\") to str",
     "output_type": "error",
     "traceback": [
      "\u001b[1;31m---------------------------------------------------------------------------\u001b[0m",
      "\u001b[1;31mTypeError\u001b[0m                                 Traceback (most recent call last)",
      "\u001b[1;32m<ipython-input-296-76ef5bb9abc7>\u001b[0m in \u001b[0;36m<module>\u001b[1;34m\u001b[0m\n\u001b[1;32m----> 1\u001b[1;33m \u001b[0mprint\u001b[0m\u001b[1;33m(\u001b[0m\u001b[1;34m\"The sum of 2 plus 2 is \"\u001b[0m \u001b[1;33m+\u001b[0m \u001b[1;36m4\u001b[0m\u001b[1;33m)\u001b[0m\u001b[1;33m\u001b[0m\u001b[1;33m\u001b[0m\u001b[0m\n\u001b[0m",
      "\u001b[1;31mTypeError\u001b[0m: can only concatenate str (not \"int\") to str"
     ]
    }
   ],
   "source": [
    "print(\"The sum of 2 plus 2 is \" + 4)"
   ]
  },
  {
   "cell_type": "code",
   "execution_count": 302,
   "metadata": {},
   "outputs": [
    {
     "name": "stdout",
     "output_type": "stream",
     "text": [
      "yes this was age i was lookin g fior\n"
     ]
    }
   ],
   "source": [
    "age = 25\n",
    "if age == 25:\n",
    "    print(\"yes this was age i was lookin g fior\")\n",
    "else:\n",
    "    print(\"no this false\")"
   ]
  },
  {
   "cell_type": "code",
   "execution_count": 317,
   "metadata": {},
   "outputs": [
    {
     "name": "stdout",
     "output_type": "stream",
     "text": [
      "no this false\n"
     ]
    }
   ],
   "source": [
    "age = 24\n",
    "if age == 25:\n",
    "    print(\"yes this was age i was lookin g fior\")\n",
    "elif age == 26:\n",
    "    print(\"it will fine ...\")\n",
    "else:\n",
    "    print(\"no this false\")"
   ]
  },
  {
   "cell_type": "code",
   "execution_count": 319,
   "metadata": {},
   "outputs": [
    {
     "name": "stdout",
     "output_type": "stream",
     "text": [
      "try to recruit him\n"
     ]
    }
   ],
   "source": [
    "weight = 301\n",
    "time = 5\n",
    "if weight > 300 and time < 6: ## or\n",
    "    print(\"try to recruit him\")"
   ]
  },
  {
   "cell_type": "code",
   "execution_count": 320,
   "metadata": {},
   "outputs": [
    {
     "name": "stdout",
     "output_type": "stream",
     "text": [
      "try to recruit him\n"
     ]
    }
   ],
   "source": [
    "weight = 301\n",
    "time = 7\n",
    "if weight > 300 or time < 6: ## or\n",
    "    print(\"try to recruit him\")"
   ]
  },
  {
   "cell_type": "code",
   "execution_count": 330,
   "metadata": {},
   "outputs": [
    {
     "name": "stdout",
     "output_type": "stream",
     "text": [
      "sjcsjkdhjksd\n"
     ]
    }
   ],
   "source": [
    "age = 66\n",
    "res = \"U.K.\"\n",
    "if age > 65 or age <= 21 and res == \"U.K.\":\n",
    "    print(\"sjcsjkdhjksd\")"
   ]
  },
  {
   "cell_type": "code",
   "execution_count": 332,
   "metadata": {},
   "outputs": [
    {
     "name": "stdout",
     "output_type": "stream",
     "text": [
      "true\n"
     ]
    }
   ],
   "source": [
    "if age == 66:\n",
    "    if res == \"U.K.\":\n",
    "        print(\"true\")"
   ]
  },
  {
   "cell_type": "code",
   "execution_count": 336,
   "metadata": {},
   "outputs": [],
   "source": [
    "a=4;b=3;c=3;d=4;g = 5; e=8;f= 9; h=7\n",
    "if a == d: # cv true\n",
    "    print(\"pass1\")\n",
    "    if b == c: # reject male\n",
    "        g = h\n",
    "    elif a == b:\n",
    "        g = h\n",
    "    else: e = f\n",
    "else: \n",
    "    e = f"
   ]
  },
  {
   "cell_type": "code",
   "execution_count": 337,
   "metadata": {},
   "outputs": [
    {
     "name": "stdout",
     "output_type": "stream",
     "text": [
      "9\n"
     ]
    }
   ],
   "source": [
    "print(e)"
   ]
  },
  {
   "cell_type": "code",
   "execution_count": 341,
   "metadata": {},
   "outputs": [
    {
     "name": "stdout",
     "output_type": "stream",
     "text": [
      "rejected\n"
     ]
    }
   ],
   "source": [
    "cv = \"cv nai ayye\"\n",
    "if cv == \"got it\":\n",
    "    if gender == \"female\":\n",
    "        print(\"pick n drop\")\n",
    "    elif gender == \"male\":\n",
    "        print(\"noe pic nm drop\")\n",
    "    else:\n",
    "        print(\"notr req\")\n",
    "else:\n",
    "    print(\"rejected\")\n",
    "        "
   ]
  },
  {
   "cell_type": "code",
   "execution_count": 343,
   "metadata": {},
   "outputs": [
    {
     "data": {
      "text/plain": [
       "'cv = \"got it\"\\ngender =\"female\"\\nif cv == \"got it\":\\n    if gender == \"female\":\\n        print(\"pick n drop\")\\n#     elif gender == \"male\":\\n#         print(\"noe pic nm drop\")\\n    else:\\n        print(\"notr req\")\\nelse:\\n    print(\"rejected\")'"
      ]
     },
     "execution_count": 343,
     "metadata": {},
     "output_type": "execute_result"
    }
   ],
   "source": [
    "'''cv = \"got it\"\n",
    "gender =\"female\"\n",
    "if cv == \"got it\":\n",
    "    if gender == \"female\":\n",
    "        print(\"pick n drop\")\n",
    "#     elif gender == \"male\":\n",
    "#         print(\"noe pic nm drop\")\n",
    "    else:\n",
    "        print(\"notr req\")\n",
    "else:\n",
    "    print(\"rejected\")'''"
   ]
  },
  {
   "cell_type": "code",
   "execution_count": 344,
   "metadata": {},
   "outputs": [
    {
     "ename": "SyntaxError",
     "evalue": "invalid syntax (<ipython-input-344-d08bdce86b1f>, line 1)",
     "output_type": "error",
     "traceback": [
      "\u001b[1;36m  File \u001b[1;32m\"<ipython-input-344-d08bdce86b1f>\"\u001b[1;36m, line \u001b[1;32m1\u001b[0m\n\u001b[1;33m    1name = \"sadiq\"\u001b[0m\n\u001b[1;37m        ^\u001b[0m\n\u001b[1;31mSyntaxError\u001b[0m\u001b[1;31m:\u001b[0m invalid syntax\n"
     ]
    }
   ],
   "source": [
    "1name = \"sadiq\""
   ]
  },
  {
   "cell_type": "code",
   "execution_count": 347,
   "metadata": {},
   "outputs": [
    {
     "data": {
      "text/plain": [
       "'Atlanta'"
      ]
     },
     "execution_count": 347,
     "metadata": {},
     "output_type": "execute_result"
    }
   ],
   "source": [
    "cities = [\"Atlanta\", \"Baltimore\", \"Chicago\", \"Denver\", \"Los Angeles\", \"Seattle\",25,26,28]\n",
    "cities[0]"
   ]
  },
  {
   "cell_type": "code",
   "execution_count": 348,
   "metadata": {},
   "outputs": [
    {
     "data": {
      "text/plain": [
       "28"
      ]
     },
     "execution_count": 348,
     "metadata": {},
     "output_type": "execute_result"
    }
   ],
   "source": [
    "cities[8]"
   ]
  },
  {
   "cell_type": "code",
   "execution_count": 349,
   "metadata": {},
   "outputs": [
    {
     "data": {
      "text/plain": [
       "28"
      ]
     },
     "execution_count": 349,
     "metadata": {},
     "output_type": "execute_result"
    }
   ],
   "source": [
    "cities[-1]"
   ]
  },
  {
   "cell_type": "code",
   "execution_count": 355,
   "metadata": {},
   "outputs": [
    {
     "data": {
      "text/plain": [
       "['Atlanta',\n",
       " 'Baltimore',\n",
       " 'Chicago',\n",
       " 'Denver',\n",
       " 'Los Angeles',\n",
       " 'Seattle',\n",
       " 25,\n",
       " 26,\n",
       " 28,\n",
       " 'karach',\n",
       " 'isl',\n",
       " 'lhe',\n",
       " 'isl',\n",
       " 'lhe',\n",
       " 'karach']"
      ]
     },
     "execution_count": 355,
     "metadata": {},
     "output_type": "execute_result"
    }
   ],
   "source": [
    "cities.append(\"karach\")\n",
    "cities"
   ]
  },
  {
   "cell_type": "code",
   "execution_count": 356,
   "metadata": {},
   "outputs": [
    {
     "data": {
      "text/plain": [
       "['Atlanta',\n",
       " 'Baltimore',\n",
       " 'Chicago',\n",
       " 'Denver',\n",
       " 'Los Angeles',\n",
       " 'Seattle',\n",
       " 25,\n",
       " 26,\n",
       " 28,\n",
       " 'karach',\n",
       " 'isl',\n",
       " 'lhe',\n",
       " 'isl',\n",
       " 'lhe',\n",
       " 'karach',\n",
       " 'isl',\n",
       " 'lhe']"
      ]
     },
     "execution_count": 356,
     "metadata": {},
     "output_type": "execute_result"
    }
   ],
   "source": [
    "cities += [\"isl\", \"lhe\"]\n",
    "cities"
   ]
  },
  {
   "cell_type": "code",
   "execution_count": 357,
   "metadata": {},
   "outputs": [],
   "source": [
    "cities.insert(0,\"kaarchi\")"
   ]
  },
  {
   "cell_type": "code",
   "execution_count": 358,
   "metadata": {},
   "outputs": [
    {
     "data": {
      "text/plain": [
       "['kaarchi',\n",
       " 'Atlanta',\n",
       " 'Baltimore',\n",
       " 'Chicago',\n",
       " 'Denver',\n",
       " 'Los Angeles',\n",
       " 'Seattle',\n",
       " 25,\n",
       " 26,\n",
       " 28,\n",
       " 'karach',\n",
       " 'isl',\n",
       " 'lhe',\n",
       " 'isl',\n",
       " 'lhe',\n",
       " 'karach',\n",
       " 'isl',\n",
       " 'lhe']"
      ]
     },
     "execution_count": 358,
     "metadata": {},
     "output_type": "execute_result"
    }
   ],
   "source": [
    "cities"
   ]
  },
  {
   "cell_type": "code",
   "execution_count": 360,
   "metadata": {},
   "outputs": [
    {
     "data": {
      "text/plain": [
       "['Atlanta', 'Baltimore', 'Chicago', 'Denver', 'Los Angeles', 'Seattle']"
      ]
     },
     "execution_count": 360,
     "metadata": {},
     "output_type": "execute_result"
    }
   ],
   "source": [
    "cities[1:7]\n"
   ]
  },
  {
   "cell_type": "code",
   "execution_count": 368,
   "metadata": {},
   "outputs": [
    {
     "data": {
      "text/plain": [
       "['Baltimore', 'Chicago', 'Denver', 'karach', 'isl', 'lhe']"
      ]
     },
     "execution_count": 368,
     "metadata": {},
     "output_type": "execute_result"
    }
   ],
   "source": [
    "cities[2:5]+cities[-8:-5]"
   ]
  },
  {
   "cell_type": "code",
   "execution_count": 364,
   "metadata": {},
   "outputs": [
    {
     "data": {
      "text/plain": [
       "[]"
      ]
     },
     "execution_count": 364,
     "metadata": {},
     "output_type": "execute_result"
    }
   ],
   "source": [
    "cities[-6:-8]"
   ]
  },
  {
   "cell_type": "code",
   "execution_count": 366,
   "metadata": {},
   "outputs": [
    {
     "data": {
      "text/plain": [
       "['karach', 'isl', 'lhe']"
      ]
     },
     "execution_count": 366,
     "metadata": {},
     "output_type": "execute_result"
    }
   ],
   "source": [
    "cities[-8:-5]"
   ]
  },
  {
   "cell_type": "code",
   "execution_count": 386,
   "metadata": {},
   "outputs": [
    {
     "data": {
      "text/plain": [
       "['isl', 'isl', 'karach']"
      ]
     },
     "execution_count": 386,
     "metadata": {},
     "output_type": "execute_result"
    }
   ],
   "source": [
    "cities[-2:-10:-3] # this means k first k baad  3 value lay ga"
   ]
  },
  {
   "cell_type": "code",
   "execution_count": 385,
   "metadata": {},
   "outputs": [
    {
     "data": {
      "text/plain": [
       "'lhe'"
      ]
     },
     "execution_count": 385,
     "metadata": {},
     "output_type": "execute_result"
    }
   ],
   "source": [
    "cities[-1]"
   ]
  },
  {
   "cell_type": "code",
   "execution_count": 387,
   "metadata": {},
   "outputs": [
    {
     "data": {
      "text/plain": [
       "['Los Angeles',\n",
       " 'Seattle',\n",
       " 25,\n",
       " 26,\n",
       " 28,\n",
       " 'karach',\n",
       " 'isl',\n",
       " 'lhe',\n",
       " 'isl',\n",
       " 'lhe',\n",
       " 'karach',\n",
       " 'isl',\n",
       " 'lhe']"
      ]
     },
     "execution_count": 387,
     "metadata": {},
     "output_type": "execute_result"
    }
   ],
   "source": [
    "cities[5:]"
   ]
  },
  {
   "cell_type": "code",
   "execution_count": 388,
   "metadata": {},
   "outputs": [
    {
     "data": {
      "text/plain": [
       "['kaarchi',\n",
       " 'Atlanta',\n",
       " 'Baltimore',\n",
       " 'Chicago',\n",
       " 'Denver',\n",
       " 'Los Angeles',\n",
       " 'Seattle',\n",
       " 25,\n",
       " 26,\n",
       " 28,\n",
       " 'karach',\n",
       " 'isl',\n",
       " 'lhe',\n",
       " 'isl',\n",
       " 'lhe',\n",
       " 'karach',\n",
       " 'isl',\n",
       " 'lhe']"
      ]
     },
     "execution_count": 388,
     "metadata": {},
     "output_type": "execute_result"
    }
   ],
   "source": [
    "cities"
   ]
  },
  {
   "cell_type": "code",
   "execution_count": 399,
   "metadata": {},
   "outputs": [
    {
     "data": {
      "text/plain": [
       "['karach', 'Chicago']"
      ]
     },
     "execution_count": 399,
     "metadata": {},
     "output_type": "execute_result"
    }
   ],
   "source": [
    "cities[10:2:-7]"
   ]
  },
  {
   "cell_type": "code",
   "execution_count": 404,
   "metadata": {},
   "outputs": [
    {
     "data": {
      "text/plain": [
       "['isl', 28, 'Baltimore']"
      ]
     },
     "execution_count": 404,
     "metadata": {},
     "output_type": "execute_result"
    }
   ],
   "source": [
    "cities[-2:-17:-7]"
   ]
  },
  {
   "cell_type": "code",
   "execution_count": 410,
   "metadata": {},
   "outputs": [
    {
     "data": {
      "text/plain": [
       "[26, 28, 'karach', 'isl', 'lhe']"
      ]
     },
     "execution_count": 410,
     "metadata": {},
     "output_type": "execute_result"
    }
   ],
   "source": [
    "cities[8:13:1]"
   ]
  },
  {
   "cell_type": "code",
   "execution_count": 416,
   "metadata": {},
   "outputs": [
    {
     "name": "stdout",
     "output_type": "stream",
     "text": [
      "Enter a name to append or 'x'  to cancelsadiq\n",
      "Enter a name to append or 'x'  to cancelhanif\n",
      "Enter a name to append or 'x'  to cancelshaoicn\n",
      "Enter a name to append or 'x'  to cancelahksd\n",
      "Enter a name to append or 'x'  to cancelx\n"
     ]
    },
    {
     "data": {
      "text/plain": [
       "['sadiq', 'hanif', 'shaoicn', 'ahksd']"
      ]
     },
     "execution_count": 416,
     "metadata": {},
     "output_type": "execute_result"
    }
   ],
   "source": [
    "name=[]\n",
    "while True:\n",
    "    a = input(\"Enter a name to append or 'x'  to cancel\")\n",
    "    if a!=\"x\":\n",
    "        name.append(a)\n",
    "    else:\n",
    "        break\n",
    "name"
   ]
  },
  {
   "cell_type": "code",
   "execution_count": 466,
   "metadata": {},
   "outputs": [
    {
     "name": "stdout",
     "output_type": "stream",
     "text": [
      "aaaaa\n",
      "aaaaa\n",
      "aaaaa\n",
      "aaaaa\n",
      "aaaaa\n"
     ]
    }
   ],
   "source": [
    "li=[1,2,3,4,5]\n",
    "A=5;B=3\n",
    "li=[]\n",
    "a = 'a'\n",
    "b= \"b\"\n",
    "b*=B\n",
    "a*=A\n",
    "\n",
    "# for aWala in range(1,A+1):\n",
    "# #     print('a')\n",
    "#     a*=A\n",
    "          \n",
    "# print(range(1,10))\n",
    "# range(1,10)\n",
    "for aaa in a:\n",
    "    print(a)"
   ]
  },
  {
   "cell_type": "code",
   "execution_count": 474,
   "metadata": {},
   "outputs": [
    {
     "name": "stdout",
     "output_type": "stream",
     "text": [
      "8\n"
     ]
    },
    {
     "data": {
      "text/plain": [
       "'aab'"
      ]
     },
     "execution_count": 474,
     "metadata": {},
     "output_type": "execute_result"
    }
   ],
   "source": [
    "c= a+b\n",
    "awaly = 2\n",
    "bwaly = 1\n",
    "Tlength = len(c)\n",
    "print(Tlength)\n",
    "e= \"\"\n",
    "for i in range(0,awaly):\n",
    "    e += a[i]\n",
    "for r in range(0,bwaly):\n",
    "    e += b[i]\n",
    "# print(c[1])\n",
    "# if c[0]== \"a\":\n",
    "#     if c[1] == \"a\":\n",
    "#         print(c[:2])\n",
    "e"
   ]
  },
  {
   "cell_type": "code",
   "execution_count": 486,
   "metadata": {},
   "outputs": [
    {
     "name": "stdout",
     "output_type": "stream",
     "text": [
      "asjasjk11\n",
      "many ...\n"
     ]
    }
   ],
   "source": [
    "# def dounts():\n",
    "inp = input(\"asjasjk\")\n",
    "if int(inp)>10:\n",
    "    print(\"many ...\")\n",
    "else:\n",
    "    print(\"this number of coount is\" + str(inp))"
   ]
  },
  {
   "cell_type": "code",
   "execution_count": 512,
   "metadata": {},
   "outputs": [
    {
     "name": "stdout",
     "output_type": "stream",
     "text": [
      "faks\n"
     ]
    }
   ],
   "source": [
    "string = \"fadsfdghsdfks\"\n",
    "print(string[:2]+string[len(string)-2:])"
   ]
  },
  {
   "cell_type": "code",
   "execution_count": 538,
   "metadata": {},
   "outputs": [
    {
     "name": "stdout",
     "output_type": "stream",
     "text": [
      "*tyuii***yuii***\n"
     ]
    },
    {
     "data": {
      "text/plain": [
       "'rtyuii***yuii***'"
      ]
     },
     "execution_count": 538,
     "metadata": {},
     "output_type": "execute_result"
    }
   ],
   "source": [
    "string=\"rtyuiirrryuiirrr\"\n",
    "firstChar =string[0]\n",
    "# string.find(\"b\",1)\n",
    "# print(string.replace(\"b\", \"*\", 3))\n",
    "aaa = string.replace(firstChar, \"*\")\n",
    "print(aaa)\n",
    "pa = list(aaa)\n",
    "pa[0]=firstChar\n",
    "\"\".join(pa)"
   ]
  },
  {
   "cell_type": "code",
   "execution_count": 564,
   "metadata": {},
   "outputs": [
    {
     "data": {
      "text/plain": [
       "'endingly'"
      ]
     },
     "execution_count": 564,
     "metadata": {},
     "output_type": "execute_result"
    }
   ],
   "source": [
    "stry = \"ending\"\n",
    "# print(stry[len(stry)-3:])\n",
    "if stry[len(stry)-3:] ==\"ing\":\n",
    "    stry += \"ly\"\n",
    "elif len(stry) >= 3:\n",
    "    stry += \"ing\"\n",
    "    \n",
    "stry"
   ]
  },
  {
   "cell_type": "code",
   "execution_count": 566,
   "metadata": {},
   "outputs": [],
   "source": [
    "# 1 ka  3"
   ]
  },
  {
   "cell_type": "code",
   "execution_count": 567,
   "metadata": {},
   "outputs": [],
   "source": [
    "# 3 ka B\n",
    "# 5 2nd awal flot, 3rd str\n",
    "# Q7 pemdas \n",
    "# 8 int, bool, str, float ,str\n"
   ]
  },
  {
   "cell_type": "code",
   "execution_count": 568,
   "metadata": {},
   "outputs": [
    {
     "data": {
      "text/plain": [
       "[]"
      ]
     },
     "execution_count": 568,
     "metadata": {},
     "output_type": "execute_result"
    }
   ],
   "source": [
    "li"
   ]
  },
  {
   "cell_type": "code",
   "execution_count": 569,
   "metadata": {},
   "outputs": [
    {
     "data": {
      "text/plain": [
       "['kaarchi',\n",
       " 'Atlanta',\n",
       " 'Baltimore',\n",
       " 'Chicago',\n",
       " 'Denver',\n",
       " 'Los Angeles',\n",
       " 'Seattle',\n",
       " 25,\n",
       " 26,\n",
       " 28,\n",
       " 'karach',\n",
       " 'isl',\n",
       " 'lhe',\n",
       " 'isl',\n",
       " 'lhe',\n",
       " 'karach',\n",
       " 'isl',\n",
       " 'lhe']"
      ]
     },
     "execution_count": 569,
     "metadata": {},
     "output_type": "execute_result"
    }
   ],
   "source": [
    "cities"
   ]
  },
  {
   "cell_type": "code",
   "execution_count": 570,
   "metadata": {},
   "outputs": [
    {
     "data": {
      "text/plain": [
       "['__add__',\n",
       " '__class__',\n",
       " '__contains__',\n",
       " '__delattr__',\n",
       " '__delitem__',\n",
       " '__dir__',\n",
       " '__doc__',\n",
       " '__eq__',\n",
       " '__format__',\n",
       " '__ge__',\n",
       " '__getattribute__',\n",
       " '__getitem__',\n",
       " '__gt__',\n",
       " '__hash__',\n",
       " '__iadd__',\n",
       " '__imul__',\n",
       " '__init__',\n",
       " '__init_subclass__',\n",
       " '__iter__',\n",
       " '__le__',\n",
       " '__len__',\n",
       " '__lt__',\n",
       " '__mul__',\n",
       " '__ne__',\n",
       " '__new__',\n",
       " '__reduce__',\n",
       " '__reduce_ex__',\n",
       " '__repr__',\n",
       " '__reversed__',\n",
       " '__rmul__',\n",
       " '__setattr__',\n",
       " '__setitem__',\n",
       " '__sizeof__',\n",
       " '__str__',\n",
       " '__subclasshook__',\n",
       " 'append',\n",
       " 'clear',\n",
       " 'copy',\n",
       " 'count',\n",
       " 'extend',\n",
       " 'index',\n",
       " 'insert',\n",
       " 'pop',\n",
       " 'remove',\n",
       " 'reverse',\n",
       " 'sort']"
      ]
     },
     "execution_count": 570,
     "metadata": {},
     "output_type": "execute_result"
    }
   ],
   "source": [
    "dir(cities)"
   ]
  },
  {
   "cell_type": "code",
   "execution_count": 571,
   "metadata": {},
   "outputs": [
    {
     "data": {
      "text/plain": [
       "list"
      ]
     },
     "execution_count": 571,
     "metadata": {},
     "output_type": "execute_result"
    }
   ],
   "source": [
    "cities.__class__"
   ]
  },
  {
   "cell_type": "code",
   "execution_count": 578,
   "metadata": {},
   "outputs": [
    {
     "data": {
      "text/plain": [
       "[0, 10, 20, 30, 40, 50, 60, 70, 80, 90, 100]"
      ]
     },
     "execution_count": 578,
     "metadata": {},
     "output_type": "execute_result"
    }
   ],
   "source": [
    "list(range(0,101,10))"
   ]
  },
  {
   "cell_type": "code",
   "execution_count": 583,
   "metadata": {},
   "outputs": [
    {
     "data": {
      "text/plain": [
       "'A'"
      ]
     },
     "execution_count": 583,
     "metadata": {},
     "output_type": "execute_result"
    }
   ],
   "source": [
    "chr(65)"
   ]
  },
  {
   "cell_type": "code",
   "execution_count": 584,
   "metadata": {},
   "outputs": [
    {
     "data": {
      "text/plain": [
       "65"
      ]
     },
     "execution_count": 584,
     "metadata": {},
     "output_type": "execute_result"
    }
   ],
   "source": [
    "ord(\"A\")"
   ]
  },
  {
   "cell_type": "code",
   "execution_count": 581,
   "metadata": {},
   "outputs": [
    {
     "data": {
      "text/plain": [
       "[65,\n",
       " 66,\n",
       " 67,\n",
       " 68,\n",
       " 69,\n",
       " 70,\n",
       " 71,\n",
       " 72,\n",
       " 73,\n",
       " 74,\n",
       " 75,\n",
       " 76,\n",
       " 77,\n",
       " 78,\n",
       " 79,\n",
       " 80,\n",
       " 81,\n",
       " 82,\n",
       " 83,\n",
       " 84,\n",
       " 85,\n",
       " 86,\n",
       " 87,\n",
       " 88,\n",
       " 89]"
      ]
     },
     "execution_count": 581,
     "metadata": {},
     "output_type": "execute_result"
    }
   ],
   "source": [
    "li=list(range(65,90))\n",
    "li"
   ]
  },
  {
   "cell_type": "code",
   "execution_count": 585,
   "metadata": {},
   "outputs": [
    {
     "name": "stdout",
     "output_type": "stream",
     "text": [
      "A\n",
      "B\n",
      "C\n",
      "D\n",
      "E\n",
      "F\n",
      "G\n",
      "H\n",
      "I\n",
      "J\n",
      "K\n",
      "L\n",
      "M\n",
      "N\n",
      "O\n",
      "P\n",
      "Q\n",
      "R\n",
      "S\n",
      "T\n",
      "U\n",
      "V\n",
      "W\n",
      "X\n",
      "Y\n"
     ]
    }
   ],
   "source": [
    "for e in li:\n",
    "    print(chr(e))\n",
    "    "
   ]
  },
  {
   "cell_type": "code",
   "execution_count": 586,
   "metadata": {},
   "outputs": [
    {
     "data": {
      "text/plain": [
       "[65,\n",
       " 66,\n",
       " 67,\n",
       " 68,\n",
       " 69,\n",
       " 70,\n",
       " 71,\n",
       " 72,\n",
       " 73,\n",
       " 74,\n",
       " 75,\n",
       " 76,\n",
       " 77,\n",
       " 78,\n",
       " 79,\n",
       " 80,\n",
       " 81,\n",
       " 82,\n",
       " 83,\n",
       " 84,\n",
       " 85,\n",
       " 86,\n",
       " 87,\n",
       " 88,\n",
       " 89]"
      ]
     },
     "execution_count": 586,
     "metadata": {},
     "output_type": "execute_result"
    }
   ],
   "source": [
    "li"
   ]
  },
  {
   "cell_type": "code",
   "execution_count": 587,
   "metadata": {},
   "outputs": [
    {
     "data": {
      "text/plain": [
       "<map at 0x25771c0dd30>"
      ]
     },
     "execution_count": 587,
     "metadata": {},
     "output_type": "execute_result"
    }
   ],
   "source": [
    "map(chr,li)"
   ]
  },
  {
   "cell_type": "code",
   "execution_count": 588,
   "metadata": {},
   "outputs": [
    {
     "data": {
      "text/plain": [
       "['A',\n",
       " 'B',\n",
       " 'C',\n",
       " 'D',\n",
       " 'E',\n",
       " 'F',\n",
       " 'G',\n",
       " 'H',\n",
       " 'I',\n",
       " 'J',\n",
       " 'K',\n",
       " 'L',\n",
       " 'M',\n",
       " 'N',\n",
       " 'O',\n",
       " 'P',\n",
       " 'Q',\n",
       " 'R',\n",
       " 'S',\n",
       " 'T',\n",
       " 'U',\n",
       " 'V',\n",
       " 'W',\n",
       " 'X',\n",
       " 'Y']"
      ]
     },
     "execution_count": 588,
     "metadata": {},
     "output_type": "execute_result"
    }
   ],
   "source": [
    "list(map(chr,li))"
   ]
  },
  {
   "cell_type": "code",
   "execution_count": 590,
   "metadata": {},
   "outputs": [
    {
     "data": {
      "text/plain": [
       "[5, 10, 6]"
      ]
     },
     "execution_count": 590,
     "metadata": {},
     "output_type": "execute_result"
    }
   ],
   "source": [
    "l1=[\"sadiq\", \"usamahjhkh\", \"shoaib\"]\n",
    "list(map(len,l1))"
   ]
  },
  {
   "cell_type": "code",
   "execution_count": 595,
   "metadata": {},
   "outputs": [
    {
     "data": {
      "text/plain": [
       "[5, 10, 6]"
      ]
     },
     "execution_count": 595,
     "metadata": {},
     "output_type": "execute_result"
    }
   ],
   "source": [
    "l2=[]\n",
    "for e in l1:\n",
    "    l2.append(len(e))\n",
    "l2"
   ]
  },
  {
   "cell_type": "code",
   "execution_count": 596,
   "metadata": {},
   "outputs": [
    {
     "data": {
      "text/plain": [
       "47"
      ]
     },
     "execution_count": 596,
     "metadata": {},
     "output_type": "execute_result"
    }
   ],
   "source": [
    "ord(\"/\")"
   ]
  },
  {
   "cell_type": "code",
   "execution_count": 597,
   "metadata": {},
   "outputs": [
    {
     "data": {
      "text/plain": [
       "['sadiq', 'usamahjhkh', 'shoaib']"
      ]
     },
     "execution_count": 597,
     "metadata": {},
     "output_type": "execute_result"
    }
   ],
   "source": [
    "l1"
   ]
  },
  {
   "cell_type": "code",
   "execution_count": 598,
   "metadata": {},
   "outputs": [],
   "source": [
    "l1=list(map(chr,li))"
   ]
  },
  {
   "cell_type": "code",
   "execution_count": 599,
   "metadata": {},
   "outputs": [
    {
     "data": {
      "text/plain": [
       "['A',\n",
       " 'B',\n",
       " 'C',\n",
       " 'D',\n",
       " 'E',\n",
       " 'F',\n",
       " 'G',\n",
       " 'H',\n",
       " 'I',\n",
       " 'J',\n",
       " 'K',\n",
       " 'L',\n",
       " 'M',\n",
       " 'N',\n",
       " 'O',\n",
       " 'P',\n",
       " 'Q',\n",
       " 'R',\n",
       " 'S',\n",
       " 'T',\n",
       " 'U',\n",
       " 'V',\n",
       " 'W',\n",
       " 'X',\n",
       " 'Y']"
      ]
     },
     "execution_count": 599,
     "metadata": {},
     "output_type": "execute_result"
    }
   ],
   "source": [
    "l1"
   ]
  },
  {
   "cell_type": "code",
   "execution_count": 607,
   "metadata": {},
   "outputs": [
    {
     "name": "stdout",
     "output_type": "stream",
     "text": [
      "ABCDEFGHIJKLMNOPQRSTUVWXY\n"
     ]
    }
   ],
   "source": [
    "print(*l1,sep=\"\")"
   ]
  },
  {
   "cell_type": "code",
   "execution_count": 616,
   "metadata": {},
   "outputs": [
    {
     "name": "stdout",
     "output_type": "stream",
     "text": [
      "Pakistan\n"
     ]
    }
   ],
   "source": [
    "a=5\n",
    "if a==5:\n",
    "    print(\"Pakistan\")\n",
    "else:\n",
    "    print(\"China\")"
   ]
  },
  {
   "cell_type": "code",
   "execution_count": 613,
   "metadata": {},
   "outputs": [
    {
     "name": "stdout",
     "output_type": "stream",
     "text": [
      "Pakistan\n"
     ]
    }
   ],
   "source": [
    "a=5\n",
    "\"Pakistan\" if a==5 else \"China\""
   ]
  },
  {
   "cell_type": "code",
   "execution_count": 619,
   "metadata": {},
   "outputs": [
    {
     "data": {
      "text/plain": [
       "[0, 1, 2, 3, 4]"
      ]
     },
     "execution_count": 619,
     "metadata": {},
     "output_type": "execute_result"
    }
   ],
   "source": [
    "# statement for e in list  ### === list comprehensive\n",
    "[e for e in list(range(0,a))]"
   ]
  },
  {
   "cell_type": "code",
   "execution_count": 632,
   "metadata": {},
   "outputs": [
    {
     "data": {
      "text/plain": [
       "['b',\n",
       " 'c',\n",
       " 'd',\n",
       " 'e',\n",
       " 'f',\n",
       " 'g',\n",
       " 'h',\n",
       " 'i',\n",
       " 'j',\n",
       " 'k',\n",
       " 'l',\n",
       " 'm',\n",
       " 'n',\n",
       " 'o',\n",
       " 'p',\n",
       " 'q',\n",
       " 'r',\n",
       " 's',\n",
       " 't',\n",
       " 'u',\n",
       " 'v',\n",
       " 'w']"
      ]
     },
     "execution_count": 632,
     "metadata": {},
     "output_type": "execute_result"
    }
   ],
   "source": [
    "[chr() for x in list(range(98,120))]"
   ]
  },
  {
   "cell_type": "code",
   "execution_count": 636,
   "metadata": {},
   "outputs": [],
   "source": [
    "a=6"
   ]
  },
  {
   "cell_type": "code",
   "execution_count": 637,
   "metadata": {},
   "outputs": [
    {
     "data": {
      "text/plain": [
       "['a',\n",
       " 'b',\n",
       " 'c',\n",
       " 'd',\n",
       " 'e',\n",
       " 'f',\n",
       " 'g',\n",
       " 'h',\n",
       " 'i',\n",
       " 'j',\n",
       " 'k',\n",
       " 'l',\n",
       " 'm',\n",
       " 'n',\n",
       " 'o',\n",
       " 'p',\n",
       " 'q',\n",
       " 'r',\n",
       " 's',\n",
       " 't',\n",
       " 'u',\n",
       " 'v',\n",
       " 'w',\n",
       " 'x',\n",
       " 'y',\n",
       " 'z',\n",
       " '{',\n",
       " '|',\n",
       " '}',\n",
       " '~']"
      ]
     },
     "execution_count": 637,
     "metadata": {},
     "output_type": "execute_result"
    }
   ],
   "source": [
    "ist(map(chr,list(range(65,98)))) if a==5 else [chr(x) for x in list(range(97,127))]"
   ]
  },
  {
   "cell_type": "code",
   "execution_count": 654,
   "metadata": {},
   "outputs": [
    {
     "name": "stdout",
     "output_type": "stream",
     "text": [
      "2 X 1 = 2\n",
      "2 X 2 = 4\n",
      "2 X 3 = 6\n",
      "2 X 4 = 8\n",
      "2 X 5 = 10\n",
      "2 X 6 = 12\n",
      "2 X 7 = 14\n",
      "2 X 8 = 16\n",
      "2 X 9 = 18\n",
      "2 X 10 = 20\n",
      "2 X 11 = 22\n",
      "2 X 12 = 24\n",
      "2 X 13 = 26\n",
      "2 X 14 = 28\n",
      "2 X 15 = 30\n",
      "2 X 16 = 32\n",
      "2 X 17 = 34\n",
      "2 X 18 = 36\n",
      "2 X 19 = 38\n",
      "2 X 20 = 40\n"
     ]
    },
    {
     "data": {
      "text/plain": [
       "[None,\n",
       " None,\n",
       " None,\n",
       " None,\n",
       " None,\n",
       " None,\n",
       " None,\n",
       " None,\n",
       " None,\n",
       " None,\n",
       " None,\n",
       " None,\n",
       " None,\n",
       " None,\n",
       " None,\n",
       " None,\n",
       " None,\n",
       " None,\n",
       " None,\n",
       " None]"
      ]
     },
     "execution_count": 654,
     "metadata": {},
     "output_type": "execute_result"
    }
   ],
   "source": [
    "[print(\"{} X {} = {}\".format(2,x,x*2)) for x in range(1,21)]"
   ]
  },
  {
   "cell_type": "code",
   "execution_count": 687,
   "metadata": {},
   "outputs": [
    {
     "data": {
      "text/plain": [
       "['sad',\n",
       " 'sad',\n",
       " 'sad',\n",
       " 'sad',\n",
       " 'sad',\n",
       " 'sad',\n",
       " 'sad',\n",
       " 'sad',\n",
       " 'sad',\n",
       " 'sad',\n",
       " 'sad',\n",
       " 'sad',\n",
       " 'sad',\n",
       " 'sad',\n",
       " 'sad',\n",
       " 'sad',\n",
       " 'sad',\n",
       " 'sad',\n",
       " 'sad',\n",
       " 'sad',\n",
       " 'sad',\n",
       " 'sad',\n",
       " 'sad',\n",
       " 'sad',\n",
       " 'sad',\n",
       " 'sad',\n",
       " 'sad',\n",
       " 'sad',\n",
       " 'sad',\n",
       " 'sad',\n",
       " 'sad',\n",
       " 'sad',\n",
       " 'sad',\n",
       " 'sad',\n",
       " 'sad',\n",
       " 'sad',\n",
       " 'sad',\n",
       " 'sad',\n",
       " 'sad',\n",
       " 'sad',\n",
       " 'sad',\n",
       " 'sad',\n",
       " 'sad',\n",
       " 'sad',\n",
       " 'sad',\n",
       " 'sad',\n",
       " 'sad',\n",
       " 'sad',\n",
       " 'sad',\n",
       " 'sad',\n",
       " 'sad',\n",
       " 'sad',\n",
       " 'sad',\n",
       " 'sad',\n",
       " 'sad',\n",
       " 'sad',\n",
       " 'sad',\n",
       " 'sad',\n",
       " 'sad',\n",
       " 'sad',\n",
       " 'sad',\n",
       " 'sad',\n",
       " 'sad',\n",
       " 'sad',\n",
       " 'sad',\n",
       " 'sad',\n",
       " 'sad',\n",
       " 'sad',\n",
       " 'sad',\n",
       " 'sad',\n",
       " 'sad',\n",
       " 'sad',\n",
       " 'sad',\n",
       " 'sad',\n",
       " 'sad',\n",
       " 'sad',\n",
       " 'sad',\n",
       " 'sad',\n",
       " 'sad',\n",
       " 'sad',\n",
       " 'sad',\n",
       " 'sad',\n",
       " 'sad',\n",
       " 'sad',\n",
       " 'sad',\n",
       " 'sad',\n",
       " 'sad',\n",
       " 'sad',\n",
       " 'sad',\n",
       " 'sad',\n",
       " 'sad',\n",
       " 'sad',\n",
       " 'sad',\n",
       " 'sad',\n",
       " 'sad',\n",
       " 'sad',\n",
       " 'sad',\n",
       " 'sad',\n",
       " 'sad',\n",
       " 'sad',\n",
       " 'sad',\n",
       " 'sad',\n",
       " 'sad',\n",
       " 'sad',\n",
       " 'sad',\n",
       " 'sad',\n",
       " 'sad',\n",
       " 'sad',\n",
       " 'sad',\n",
       " 'sad',\n",
       " 'sad',\n",
       " 'sad',\n",
       " 'sad',\n",
       " 'sad',\n",
       " 'sad',\n",
       " 'sad',\n",
       " 'sad',\n",
       " 'sad',\n",
       " 'sad',\n",
       " 'sad',\n",
       " 'sad',\n",
       " 'sad',\n",
       " 'sad',\n",
       " 'sad',\n",
       " 'sad',\n",
       " 'sad',\n",
       " 'sad',\n",
       " 'sad',\n",
       " 'sad',\n",
       " 'sad',\n",
       " 'sad',\n",
       " 'sad',\n",
       " 'sad',\n",
       " 'sad',\n",
       " 'sad',\n",
       " 'sad',\n",
       " 'sad',\n",
       " 'sad',\n",
       " 'sad',\n",
       " 'sad',\n",
       " 'sad',\n",
       " 'sad',\n",
       " 'sad',\n",
       " 'sad',\n",
       " 'sad',\n",
       " 'sad',\n",
       " 'sad',\n",
       " 'sad',\n",
       " 'sad',\n",
       " 'sad',\n",
       " 'sad',\n",
       " 'sad',\n",
       " 'sad',\n",
       " 'sad',\n",
       " 'sad',\n",
       " 'sad',\n",
       " 'sad',\n",
       " 'sad',\n",
       " 'sad',\n",
       " 'sad',\n",
       " 'sad',\n",
       " 'sad',\n",
       " 'sad',\n",
       " 'sad',\n",
       " 'sad',\n",
       " 'sad',\n",
       " 'sad',\n",
       " 'sad',\n",
       " 'sad',\n",
       " 'sad',\n",
       " 'sad',\n",
       " 'sad',\n",
       " 'sad',\n",
       " 'sad',\n",
       " 'sad',\n",
       " 'sad',\n",
       " 'sad',\n",
       " 'sad',\n",
       " 'sad',\n",
       " 'sad',\n",
       " 'sad',\n",
       " 'sad',\n",
       " 'sad',\n",
       " 'sad',\n",
       " 'sad',\n",
       " 'sad',\n",
       " 'sad',\n",
       " 'sad',\n",
       " 'sad',\n",
       " 'sad',\n",
       " 'sad',\n",
       " 'sad',\n",
       " 'sad',\n",
       " 'sad',\n",
       " 'sad',\n",
       " 'sad',\n",
       " 'sad',\n",
       " 'sad',\n",
       " 'sad',\n",
       " 'sad',\n",
       " 'sad',\n",
       " 'sad',\n",
       " 'sad',\n",
       " 'sad',\n",
       " 'sad',\n",
       " 'sad',\n",
       " 'sad',\n",
       " 'sad',\n",
       " 'sad',\n",
       " 'sad',\n",
       " 'sad',\n",
       " 'sad',\n",
       " 'sad',\n",
       " 'sad',\n",
       " 'sad',\n",
       " 'sad',\n",
       " 'sad',\n",
       " 'sad',\n",
       " 'sad',\n",
       " 'sad',\n",
       " 'sad',\n",
       " 'sad',\n",
       " 'sad',\n",
       " 'sad',\n",
       " 'sad',\n",
       " 'sad',\n",
       " 'sad',\n",
       " 'sad',\n",
       " 'sad',\n",
       " 'sad',\n",
       " 'sad',\n",
       " 'sad',\n",
       " 'sad',\n",
       " 'sad',\n",
       " 'sad',\n",
       " 'sad',\n",
       " 'sad',\n",
       " 'sad',\n",
       " 'sad',\n",
       " 'sad',\n",
       " 'sad',\n",
       " 'sad',\n",
       " 'sad',\n",
       " 'sad',\n",
       " 'sad',\n",
       " 'sad',\n",
       " 'sad',\n",
       " 'sad',\n",
       " 'sad',\n",
       " 'sad',\n",
       " 'sad',\n",
       " 'sad',\n",
       " 'sad',\n",
       " 'sad',\n",
       " 'sad',\n",
       " 'sad',\n",
       " 'sad',\n",
       " 'sad',\n",
       " 'sad',\n",
       " 'sad',\n",
       " 'sad',\n",
       " 'sad',\n",
       " 'sad',\n",
       " 'sad',\n",
       " 'sad',\n",
       " 'sad',\n",
       " 'sad',\n",
       " 'sad',\n",
       " 'sad',\n",
       " 'sad',\n",
       " 'sad',\n",
       " 'sad',\n",
       " 'sad',\n",
       " 'sad',\n",
       " 'sad',\n",
       " 'sad',\n",
       " 'sad',\n",
       " 'sad',\n",
       " 'sad',\n",
       " 280,\n",
       " 'sad',\n",
       " 'sad',\n",
       " 'sad',\n",
       " 'sad',\n",
       " 'sad',\n",
       " 'sad',\n",
       " 'sad',\n",
       " 'sad',\n",
       " 'sad',\n",
       " 'sad',\n",
       " 'sad',\n",
       " 'sad',\n",
       " 'sad',\n",
       " 'sad',\n",
       " 'sad',\n",
       " 'sad',\n",
       " 'sad',\n",
       " 'sad',\n",
       " 'sad',\n",
       " 'sad',\n",
       " 'sad',\n",
       " 'sad',\n",
       " 'sad',\n",
       " 'sad',\n",
       " 'sad',\n",
       " 'sad',\n",
       " 'sad',\n",
       " 'sad',\n",
       " 'sad',\n",
       " 'sad',\n",
       " 'sad',\n",
       " 'sad',\n",
       " 'sad',\n",
       " 'sad',\n",
       " 'sad',\n",
       " 'sad',\n",
       " 'sad',\n",
       " 'sad',\n",
       " 'sad',\n",
       " 'sad',\n",
       " 'sad',\n",
       " 'sad',\n",
       " 'sad',\n",
       " 'sad',\n",
       " 'sad',\n",
       " 'sad',\n",
       " 'sad',\n",
       " 'sad',\n",
       " 'sad',\n",
       " 'sad',\n",
       " 'sad',\n",
       " 'sad',\n",
       " 'sad',\n",
       " 'sad',\n",
       " 'sad',\n",
       " 'sad',\n",
       " 'sad',\n",
       " 'sad',\n",
       " 'sad',\n",
       " 'sad',\n",
       " 'sad',\n",
       " 'sad',\n",
       " 'sad',\n",
       " 'sad',\n",
       " 'sad',\n",
       " 'sad',\n",
       " 'sad',\n",
       " 'sad',\n",
       " 'sad',\n",
       " 'sad',\n",
       " 'sad',\n",
       " 'sad',\n",
       " 'sad',\n",
       " 'sad',\n",
       " 'sad',\n",
       " 'sad',\n",
       " 'sad',\n",
       " 'sad',\n",
       " 'sad',\n",
       " 'sad',\n",
       " 'sad',\n",
       " 'sad',\n",
       " 'sad',\n",
       " 'sad',\n",
       " 'sad',\n",
       " 'sad',\n",
       " 'sad',\n",
       " 'sad',\n",
       " 'sad',\n",
       " 'sad',\n",
       " 'sad',\n",
       " 'sad',\n",
       " 'sad',\n",
       " 'sad',\n",
       " 'sad',\n",
       " 'sad',\n",
       " 'sad',\n",
       " 'sad',\n",
       " 'sad',\n",
       " 'sad',\n",
       " 'sad',\n",
       " 'sad',\n",
       " 'sad',\n",
       " 'sad',\n",
       " 'sad',\n",
       " 'sad',\n",
       " 'sad',\n",
       " 'sad',\n",
       " 'sad',\n",
       " 'sad',\n",
       " 'sad',\n",
       " 'sad',\n",
       " 'sad',\n",
       " 'sad',\n",
       " 'sad',\n",
       " 'sad',\n",
       " 'sad',\n",
       " 'sad',\n",
       " 'sad',\n",
       " 'sad',\n",
       " 'sad',\n",
       " 'sad',\n",
       " 'sad',\n",
       " 'sad',\n",
       " 'sad',\n",
       " 'sad',\n",
       " 'sad',\n",
       " 'sad',\n",
       " 'sad',\n",
       " 'sad',\n",
       " 'sad',\n",
       " 'sad',\n",
       " 'sad',\n",
       " 'sad',\n",
       " 'sad',\n",
       " 'sad',\n",
       " 'sad',\n",
       " 'sad',\n",
       " 'sad',\n",
       " 'sad',\n",
       " 'sad',\n",
       " 'sad',\n",
       " 'sad',\n",
       " 'sad',\n",
       " 'sad',\n",
       " 'sad',\n",
       " 'sad',\n",
       " 'sad',\n",
       " 'sad',\n",
       " 'sad',\n",
       " 'sad',\n",
       " 'sad',\n",
       " 'sad',\n",
       " 'sad',\n",
       " 'sad',\n",
       " 'sad',\n",
       " 'sad',\n",
       " 'sad',\n",
       " 'sad',\n",
       " 'sad',\n",
       " 'sad',\n",
       " 'sad',\n",
       " 'sad',\n",
       " 'sad',\n",
       " 'sad',\n",
       " 'sad',\n",
       " 'sad',\n",
       " 'sad',\n",
       " 'sad',\n",
       " 'sad',\n",
       " 'sad',\n",
       " 'sad',\n",
       " 'sad',\n",
       " 'sad',\n",
       " 'sad',\n",
       " 'sad',\n",
       " 'sad',\n",
       " 'sad',\n",
       " 'sad',\n",
       " 'sad',\n",
       " 'sad',\n",
       " 'sad',\n",
       " 'sad',\n",
       " 'sad',\n",
       " 'sad',\n",
       " 'sad',\n",
       " 'sad',\n",
       " 'sad',\n",
       " 'sad',\n",
       " 'sad',\n",
       " 'sad',\n",
       " 'sad',\n",
       " 'sad',\n",
       " 'sad',\n",
       " 'sad',\n",
       " 'sad',\n",
       " 'sad',\n",
       " 'sad',\n",
       " 'sad',\n",
       " 'sad',\n",
       " 'sad',\n",
       " 'sad',\n",
       " 'sad',\n",
       " 'sad',\n",
       " 'sad',\n",
       " 'sad',\n",
       " 'sad',\n",
       " 'sad',\n",
       " 'sad',\n",
       " 'sad',\n",
       " 'sad',\n",
       " 'sad',\n",
       " 'sad',\n",
       " 'sad',\n",
       " 'sad',\n",
       " 'sad',\n",
       " 'sad',\n",
       " 'sad',\n",
       " 'sad',\n",
       " 'sad',\n",
       " 'sad',\n",
       " 'sad',\n",
       " 'sad',\n",
       " 'sad',\n",
       " 'sad',\n",
       " 'sad',\n",
       " 'sad',\n",
       " 'sad',\n",
       " 'sad',\n",
       " 'sad',\n",
       " 'sad',\n",
       " 'sad',\n",
       " 'sad',\n",
       " 'sad',\n",
       " 'sad',\n",
       " 'sad',\n",
       " 'sad',\n",
       " 'sad',\n",
       " 'sad',\n",
       " 'sad',\n",
       " 'sad',\n",
       " 'sad',\n",
       " 'sad',\n",
       " 'sad',\n",
       " 'sad',\n",
       " 'sad',\n",
       " 'sad',\n",
       " 'sad',\n",
       " 'sad',\n",
       " 'sad',\n",
       " 'sad',\n",
       " 'sad',\n",
       " 'sad',\n",
       " 'sad',\n",
       " 'sad',\n",
       " 'sad',\n",
       " 'sad',\n",
       " 'sad',\n",
       " 'sad',\n",
       " 'sad',\n",
       " 'sad',\n",
       " 'sad',\n",
       " 'sad',\n",
       " 'sad',\n",
       " 'sad',\n",
       " 'sad',\n",
       " 'sad',\n",
       " 'sad',\n",
       " 'sad',\n",
       " 'sad',\n",
       " 'sad',\n",
       " 'sad',\n",
       " 'sad',\n",
       " 'sad',\n",
       " 'sad',\n",
       " 'sad',\n",
       " 'sad',\n",
       " 'sad',\n",
       " 'sad',\n",
       " 560,\n",
       " 'sad',\n",
       " 'sad',\n",
       " 'sad',\n",
       " 'sad',\n",
       " 'sad',\n",
       " 'sad',\n",
       " 'sad',\n",
       " 'sad',\n",
       " 'sad',\n",
       " 'sad',\n",
       " 'sad',\n",
       " 'sad',\n",
       " 'sad',\n",
       " 'sad',\n",
       " 'sad',\n",
       " 'sad',\n",
       " 'sad',\n",
       " 'sad',\n",
       " 'sad',\n",
       " 'sad',\n",
       " 'sad',\n",
       " 'sad',\n",
       " 'sad',\n",
       " 'sad',\n",
       " 'sad',\n",
       " 'sad',\n",
       " 'sad',\n",
       " 'sad',\n",
       " 'sad',\n",
       " 'sad',\n",
       " 'sad',\n",
       " 'sad',\n",
       " 'sad',\n",
       " 'sad',\n",
       " 'sad',\n",
       " 'sad',\n",
       " 'sad',\n",
       " 'sad',\n",
       " 'sad',\n",
       " 'sad',\n",
       " 'sad',\n",
       " 'sad',\n",
       " 'sad',\n",
       " 'sad',\n",
       " 'sad',\n",
       " 'sad',\n",
       " 'sad',\n",
       " 'sad',\n",
       " 'sad',\n",
       " 'sad',\n",
       " 'sad',\n",
       " 'sad',\n",
       " 'sad',\n",
       " 'sad',\n",
       " 'sad',\n",
       " 'sad',\n",
       " 'sad',\n",
       " 'sad',\n",
       " 'sad',\n",
       " 'sad',\n",
       " 'sad',\n",
       " 'sad',\n",
       " 'sad',\n",
       " 'sad',\n",
       " 'sad',\n",
       " 'sad',\n",
       " 'sad',\n",
       " 'sad',\n",
       " 'sad',\n",
       " 'sad',\n",
       " 'sad',\n",
       " 'sad',\n",
       " 'sad',\n",
       " 'sad',\n",
       " 'sad',\n",
       " 'sad',\n",
       " 'sad',\n",
       " 'sad',\n",
       " 'sad',\n",
       " 'sad',\n",
       " 'sad',\n",
       " 'sad',\n",
       " 'sad',\n",
       " 'sad',\n",
       " 'sad',\n",
       " 'sad',\n",
       " 'sad',\n",
       " 'sad',\n",
       " 'sad',\n",
       " 'sad',\n",
       " 'sad',\n",
       " 'sad',\n",
       " 'sad',\n",
       " 'sad',\n",
       " 'sad',\n",
       " 'sad',\n",
       " 'sad',\n",
       " 'sad',\n",
       " 'sad',\n",
       " 'sad',\n",
       " 'sad',\n",
       " 'sad',\n",
       " 'sad',\n",
       " 'sad',\n",
       " 'sad',\n",
       " 'sad',\n",
       " 'sad',\n",
       " 'sad',\n",
       " 'sad',\n",
       " 'sad',\n",
       " 'sad',\n",
       " 'sad',\n",
       " 'sad',\n",
       " 'sad',\n",
       " 'sad',\n",
       " 'sad',\n",
       " 'sad',\n",
       " 'sad',\n",
       " 'sad',\n",
       " 'sad',\n",
       " 'sad',\n",
       " 'sad',\n",
       " 'sad',\n",
       " 'sad',\n",
       " 'sad',\n",
       " 'sad',\n",
       " 'sad',\n",
       " 'sad',\n",
       " 'sad',\n",
       " 'sad',\n",
       " 'sad',\n",
       " 'sad',\n",
       " 'sad',\n",
       " 'sad',\n",
       " 'sad',\n",
       " 'sad',\n",
       " 'sad',\n",
       " 'sad',\n",
       " 'sad',\n",
       " 'sad',\n",
       " 'sad',\n",
       " 'sad',\n",
       " 'sad',\n",
       " 'sad',\n",
       " 'sad',\n",
       " 'sad',\n",
       " 'sad',\n",
       " 'sad',\n",
       " 'sad',\n",
       " 'sad',\n",
       " 'sad',\n",
       " 'sad',\n",
       " 'sad',\n",
       " 'sad',\n",
       " 'sad',\n",
       " 'sad',\n",
       " 'sad',\n",
       " 'sad',\n",
       " 'sad',\n",
       " 'sad',\n",
       " 'sad',\n",
       " 'sad',\n",
       " 'sad',\n",
       " 'sad',\n",
       " 'sad',\n",
       " 'sad',\n",
       " 'sad',\n",
       " 'sad',\n",
       " 'sad',\n",
       " 'sad',\n",
       " 'sad',\n",
       " 'sad',\n",
       " 'sad',\n",
       " 'sad',\n",
       " 'sad',\n",
       " 'sad',\n",
       " 'sad',\n",
       " 'sad',\n",
       " 'sad',\n",
       " 'sad',\n",
       " 'sad',\n",
       " 'sad',\n",
       " 'sad',\n",
       " 'sad',\n",
       " 'sad',\n",
       " 'sad',\n",
       " 'sad',\n",
       " 'sad',\n",
       " 'sad',\n",
       " 'sad',\n",
       " 'sad',\n",
       " 'sad',\n",
       " 'sad',\n",
       " 'sad',\n",
       " 'sad',\n",
       " 'sad',\n",
       " 'sad',\n",
       " 'sad',\n",
       " 'sad',\n",
       " 'sad',\n",
       " 'sad',\n",
       " 'sad',\n",
       " 'sad',\n",
       " 'sad',\n",
       " 'sad',\n",
       " 'sad',\n",
       " 'sad',\n",
       " 'sad',\n",
       " 'sad',\n",
       " 'sad',\n",
       " 'sad',\n",
       " 'sad',\n",
       " 'sad',\n",
       " 'sad',\n",
       " 'sad',\n",
       " 'sad',\n",
       " 'sad',\n",
       " 'sad',\n",
       " 'sad',\n",
       " 'sad',\n",
       " 'sad',\n",
       " 'sad',\n",
       " 'sad',\n",
       " 'sad',\n",
       " 'sad',\n",
       " 'sad',\n",
       " 'sad',\n",
       " 'sad',\n",
       " 'sad',\n",
       " 'sad',\n",
       " 'sad',\n",
       " 'sad',\n",
       " 'sad',\n",
       " 'sad',\n",
       " 'sad',\n",
       " 'sad',\n",
       " 'sad',\n",
       " 'sad',\n",
       " 'sad',\n",
       " 'sad',\n",
       " 'sad',\n",
       " 'sad',\n",
       " 'sad',\n",
       " 'sad',\n",
       " 'sad',\n",
       " 'sad',\n",
       " 'sad',\n",
       " 'sad',\n",
       " 'sad',\n",
       " 'sad',\n",
       " 'sad',\n",
       " 'sad',\n",
       " 'sad',\n",
       " 'sad',\n",
       " 'sad',\n",
       " 'sad',\n",
       " 'sad',\n",
       " 'sad',\n",
       " 'sad',\n",
       " 'sad',\n",
       " 'sad',\n",
       " 'sad',\n",
       " 'sad',\n",
       " 'sad',\n",
       " 'sad',\n",
       " 'sad',\n",
       " 'sad',\n",
       " 'sad',\n",
       " 'sad',\n",
       " 'sad',\n",
       " 'sad',\n",
       " 'sad',\n",
       " 'sad',\n",
       " 'sad',\n",
       " 'sad',\n",
       " 'sad',\n",
       " 'sad',\n",
       " 'sad',\n",
       " 'sad',\n",
       " 840,\n",
       " 'sad',\n",
       " 'sad',\n",
       " 'sad',\n",
       " 'sad',\n",
       " 'sad',\n",
       " 'sad',\n",
       " 'sad',\n",
       " 'sad',\n",
       " 'sad',\n",
       " 'sad',\n",
       " 'sad',\n",
       " 'sad',\n",
       " 'sad',\n",
       " 'sad',\n",
       " 'sad',\n",
       " 'sad',\n",
       " 'sad',\n",
       " 'sad',\n",
       " 'sad',\n",
       " 'sad',\n",
       " 'sad',\n",
       " 'sad',\n",
       " 'sad',\n",
       " 'sad',\n",
       " 'sad',\n",
       " 'sad',\n",
       " 'sad',\n",
       " 'sad',\n",
       " 'sad',\n",
       " 'sad',\n",
       " 'sad',\n",
       " 'sad',\n",
       " 'sad',\n",
       " 'sad',\n",
       " 'sad',\n",
       " 'sad',\n",
       " 'sad',\n",
       " 'sad',\n",
       " 'sad',\n",
       " 'sad',\n",
       " 'sad',\n",
       " 'sad',\n",
       " 'sad',\n",
       " 'sad',\n",
       " 'sad',\n",
       " 'sad',\n",
       " 'sad',\n",
       " 'sad',\n",
       " 'sad',\n",
       " 'sad',\n",
       " 'sad',\n",
       " 'sad',\n",
       " 'sad',\n",
       " 'sad',\n",
       " 'sad',\n",
       " 'sad',\n",
       " 'sad',\n",
       " 'sad',\n",
       " 'sad',\n",
       " 'sad',\n",
       " 'sad',\n",
       " 'sad',\n",
       " 'sad',\n",
       " 'sad',\n",
       " 'sad',\n",
       " 'sad',\n",
       " 'sad',\n",
       " 'sad',\n",
       " 'sad',\n",
       " 'sad',\n",
       " 'sad',\n",
       " 'sad',\n",
       " 'sad',\n",
       " 'sad',\n",
       " 'sad',\n",
       " 'sad',\n",
       " 'sad',\n",
       " 'sad',\n",
       " 'sad',\n",
       " 'sad',\n",
       " 'sad',\n",
       " 'sad',\n",
       " 'sad',\n",
       " 'sad',\n",
       " 'sad',\n",
       " 'sad',\n",
       " 'sad',\n",
       " 'sad',\n",
       " 'sad',\n",
       " 'sad',\n",
       " 'sad',\n",
       " 'sad',\n",
       " 'sad',\n",
       " 'sad',\n",
       " 'sad',\n",
       " 'sad',\n",
       " 'sad',\n",
       " 'sad',\n",
       " 'sad',\n",
       " 'sad',\n",
       " 'sad',\n",
       " 'sad',\n",
       " 'sad',\n",
       " 'sad',\n",
       " 'sad',\n",
       " 'sad',\n",
       " 'sad',\n",
       " 'sad',\n",
       " 'sad',\n",
       " 'sad',\n",
       " 'sad',\n",
       " 'sad',\n",
       " 'sad',\n",
       " 'sad',\n",
       " 'sad',\n",
       " 'sad',\n",
       " 'sad',\n",
       " 'sad',\n",
       " 'sad',\n",
       " 'sad',\n",
       " 'sad',\n",
       " 'sad',\n",
       " 'sad',\n",
       " 'sad',\n",
       " 'sad',\n",
       " 'sad',\n",
       " 'sad',\n",
       " 'sad',\n",
       " 'sad',\n",
       " 'sad',\n",
       " 'sad',\n",
       " 'sad',\n",
       " 'sad',\n",
       " 'sad',\n",
       " 'sad',\n",
       " 'sad',\n",
       " 'sad',\n",
       " 'sad',\n",
       " 'sad',\n",
       " 'sad',\n",
       " 'sad',\n",
       " 'sad',\n",
       " 'sad',\n",
       " 'sad',\n",
       " 'sad',\n",
       " 'sad',\n",
       " 'sad',\n",
       " 'sad',\n",
       " 'sad',\n",
       " 'sad',\n",
       " 'sad',\n",
       " 'sad',\n",
       " 'sad',\n",
       " 'sad',\n",
       " 'sad',\n",
       " 'sad',\n",
       " 'sad',\n",
       " 'sad',\n",
       " 'sad',\n",
       " 'sad']"
      ]
     },
     "execution_count": 687,
     "metadata": {},
     "output_type": "execute_result"
    }
   ],
   "source": [
    "# this comprehensive way with else\n",
    "# 1-1000  divideed by 5, 7, 40,\n",
    "l1=[]\n",
    "[x  if x%5==0 and x%7==0 and x%40==0 else \"sad\" for x in list(range(1,1001)) ]\n"
   ]
  },
  {
   "cell_type": "code",
   "execution_count": 688,
   "metadata": {},
   "outputs": [
    {
     "data": {
      "text/plain": [
       "[280, 560, 840]"
      ]
     },
     "execution_count": 688,
     "metadata": {},
     "output_type": "execute_result"
    }
   ],
   "source": [
    "l1=[]\n",
    "for x in range(1,1001):\n",
    "    if x%5==0 and x%7==0 and x%40==0:\n",
    "        l1.append(x)\n",
    "l1"
   ]
  },
  {
   "cell_type": "code",
   "execution_count": 689,
   "metadata": {},
   "outputs": [
    {
     "data": {
      "text/plain": [
       "[280, 560, 840]"
      ]
     },
     "execution_count": 689,
     "metadata": {},
     "output_type": "execute_result"
    }
   ],
   "source": [
    "# this comprehensive way without else\n",
    "l1=[]\n",
    "[x for x in list(range(1,1001))  if x%5==0 and x%7==0 and x%40==0]"
   ]
  },
  {
   "cell_type": "code",
   "execution_count": 690,
   "metadata": {},
   "outputs": [
    {
     "data": {
      "text/plain": [
       "[65,\n",
       " 66,\n",
       " 67,\n",
       " 68,\n",
       " 69,\n",
       " 70,\n",
       " 71,\n",
       " 72,\n",
       " 73,\n",
       " 74,\n",
       " 75,\n",
       " 76,\n",
       " 77,\n",
       " 78,\n",
       " 79,\n",
       " 80,\n",
       " 81,\n",
       " 82,\n",
       " 83,\n",
       " 84,\n",
       " 85,\n",
       " 86,\n",
       " 87,\n",
       " 88,\n",
       " 89,\n",
       " 280,\n",
       " 560,\n",
       " 840]"
      ]
     },
     "execution_count": 690,
     "metadata": {},
     "output_type": "execute_result"
    }
   ],
   "source": [
    "li"
   ]
  },
  {
   "cell_type": "code",
   "execution_count": 691,
   "metadata": {},
   "outputs": [],
   "source": [
    "del li[0:3]"
   ]
  },
  {
   "cell_type": "code",
   "execution_count": 692,
   "metadata": {},
   "outputs": [
    {
     "data": {
      "text/plain": [
       "[68,\n",
       " 69,\n",
       " 70,\n",
       " 71,\n",
       " 72,\n",
       " 73,\n",
       " 74,\n",
       " 75,\n",
       " 76,\n",
       " 77,\n",
       " 78,\n",
       " 79,\n",
       " 80,\n",
       " 81,\n",
       " 82,\n",
       " 83,\n",
       " 84,\n",
       " 85,\n",
       " 86,\n",
       " 87,\n",
       " 88,\n",
       " 89,\n",
       " 280,\n",
       " 560,\n",
       " 840]"
      ]
     },
     "execution_count": 692,
     "metadata": {},
     "output_type": "execute_result"
    }
   ],
   "source": [
    "li"
   ]
  },
  {
   "cell_type": "code",
   "execution_count": 693,
   "metadata": {},
   "outputs": [
    {
     "data": {
      "text/plain": [
       "[68,\n",
       " 69,\n",
       " 70,\n",
       " 71,\n",
       " 72,\n",
       " 73,\n",
       " 74,\n",
       " 75,\n",
       " 76,\n",
       " 77,\n",
       " 79,\n",
       " 80,\n",
       " 81,\n",
       " 82,\n",
       " 83,\n",
       " 84,\n",
       " 85,\n",
       " 86,\n",
       " 87,\n",
       " 88,\n",
       " 89,\n",
       " 280,\n",
       " 560,\n",
       " 840]"
      ]
     },
     "execution_count": 693,
     "metadata": {},
     "output_type": "execute_result"
    }
   ],
   "source": [
    "li.remove(78)\n",
    "li"
   ]
  },
  {
   "cell_type": "code",
   "execution_count": 696,
   "metadata": {},
   "outputs": [],
   "source": [
    "l= li.pop(0)"
   ]
  },
  {
   "cell_type": "code",
   "execution_count": 698,
   "metadata": {},
   "outputs": [],
   "source": [
    "li.insert(0,l)"
   ]
  },
  {
   "cell_type": "code",
   "execution_count": 699,
   "metadata": {},
   "outputs": [
    {
     "data": {
      "text/plain": [
       "[69,\n",
       " 70,\n",
       " 71,\n",
       " 72,\n",
       " 73,\n",
       " 74,\n",
       " 75,\n",
       " 76,\n",
       " 77,\n",
       " 79,\n",
       " 80,\n",
       " 81,\n",
       " 82,\n",
       " 83,\n",
       " 84,\n",
       " 85,\n",
       " 86,\n",
       " 87,\n",
       " 88,\n",
       " 89,\n",
       " 280,\n",
       " 560,\n",
       " 840]"
      ]
     },
     "execution_count": 699,
     "metadata": {},
     "output_type": "execute_result"
    }
   ],
   "source": [
    "li"
   ]
  },
  {
   "cell_type": "code",
   "execution_count": 700,
   "metadata": {},
   "outputs": [],
   "source": [
    "tu = (li)"
   ]
  },
  {
   "cell_type": "code",
   "execution_count": 702,
   "metadata": {},
   "outputs": [],
   "source": [
    "tu =(69,70,71)"
   ]
  },
  {
   "cell_type": "code",
   "execution_count": 703,
   "metadata": {},
   "outputs": [
    {
     "data": {
      "text/plain": [
       "list"
      ]
     },
     "execution_count": 703,
     "metadata": {},
     "output_type": "execute_result"
    }
   ],
   "source": [
    "type(li)"
   ]
  },
  {
   "cell_type": "code",
   "execution_count": 704,
   "metadata": {},
   "outputs": [
    {
     "data": {
      "text/plain": [
       "tuple"
      ]
     },
     "execution_count": 704,
     "metadata": {},
     "output_type": "execute_result"
    }
   ],
   "source": [
    "type(tu)"
   ]
  },
  {
   "cell_type": "code",
   "execution_count": 706,
   "metadata": {},
   "outputs": [],
   "source": [
    "tu = ( range(0,20))"
   ]
  },
  {
   "cell_type": "code",
   "execution_count": 707,
   "metadata": {},
   "outputs": [
    {
     "data": {
      "text/plain": [
       "range(0, 20)"
      ]
     },
     "execution_count": 707,
     "metadata": {},
     "output_type": "execute_result"
    }
   ],
   "source": [
    "tu"
   ]
  },
  {
   "cell_type": "code",
   "execution_count": 708,
   "metadata": {},
   "outputs": [],
   "source": [
    "tu = tuple(li)"
   ]
  },
  {
   "cell_type": "code",
   "execution_count": 709,
   "metadata": {},
   "outputs": [
    {
     "data": {
      "text/plain": [
       "(69,\n",
       " 70,\n",
       " 71,\n",
       " 72,\n",
       " 73,\n",
       " 74,\n",
       " 75,\n",
       " 76,\n",
       " 77,\n",
       " 79,\n",
       " 80,\n",
       " 81,\n",
       " 82,\n",
       " 83,\n",
       " 84,\n",
       " 85,\n",
       " 86,\n",
       " 87,\n",
       " 88,\n",
       " 89,\n",
       " 280,\n",
       " 560,\n",
       " 840)"
      ]
     },
     "execution_count": 709,
     "metadata": {},
     "output_type": "execute_result"
    }
   ],
   "source": [
    "tu"
   ]
  },
  {
   "cell_type": "code",
   "execution_count": 710,
   "metadata": {},
   "outputs": [
    {
     "data": {
      "text/plain": [
       "69"
      ]
     },
     "execution_count": 710,
     "metadata": {},
     "output_type": "execute_result"
    }
   ],
   "source": [
    "tu[0]"
   ]
  },
  {
   "cell_type": "code",
   "execution_count": 715,
   "metadata": {},
   "outputs": [
    {
     "data": {
      "text/plain": [
       "(69, 70, 71, 72, 73, 74, 1, 2, 3)"
      ]
     },
     "execution_count": 715,
     "metadata": {},
     "output_type": "execute_result"
    }
   ],
   "source": [
    "tu[:6] +(1,2,3)"
   ]
  },
  {
   "cell_type": "code",
   "execution_count": 717,
   "metadata": {},
   "outputs": [
    {
     "data": {
      "text/plain": [
       "(69,\n",
       " 70,\n",
       " 71,\n",
       " 72,\n",
       " 73,\n",
       " 74,\n",
       " 75,\n",
       " 76,\n",
       " 77,\n",
       " 79,\n",
       " 80,\n",
       " 81,\n",
       " 82,\n",
       " 83,\n",
       " 84,\n",
       " 85,\n",
       " 86,\n",
       " 87,\n",
       " 88,\n",
       " 89,\n",
       " 280,\n",
       " 560,\n",
       " 840,\n",
       " 1,\n",
       " 2,\n",
       " 3)"
      ]
     },
     "execution_count": 717,
     "metadata": {},
     "output_type": "execute_result"
    }
   ],
   "source": [
    "tu +(1,2,3) "
   ]
  },
  {
   "cell_type": "code",
   "execution_count": 718,
   "metadata": {},
   "outputs": [
    {
     "ename": "TypeError",
     "evalue": "'tuple' object does not support item deletion",
     "output_type": "error",
     "traceback": [
      "\u001b[1;31m---------------------------------------------------------------------------\u001b[0m",
      "\u001b[1;31mTypeError\u001b[0m                                 Traceback (most recent call last)",
      "\u001b[1;32m<ipython-input-718-b555847719d3>\u001b[0m in \u001b[0;36m<module>\u001b[1;34m\u001b[0m\n\u001b[1;32m----> 1\u001b[1;33m \u001b[1;32mdel\u001b[0m \u001b[0mtu\u001b[0m\u001b[1;33m[\u001b[0m\u001b[1;36m0\u001b[0m\u001b[1;33m:\u001b[0m\u001b[1;36m5\u001b[0m\u001b[1;33m]\u001b[0m\u001b[1;33m\u001b[0m\u001b[1;33m\u001b[0m\u001b[0m\n\u001b[0m",
      "\u001b[1;31mTypeError\u001b[0m: 'tuple' object does not support item deletion"
     ]
    }
   ],
   "source": [
    "del tu[0:5]"
   ]
  },
  {
   "cell_type": "code",
   "execution_count": 720,
   "metadata": {},
   "outputs": [],
   "source": [
    "li[0]=2"
   ]
  },
  {
   "cell_type": "code",
   "execution_count": 730,
   "metadata": {},
   "outputs": [
    {
     "data": {
      "text/plain": [
       "(69,\n",
       " 70,\n",
       " 71,\n",
       " 72,\n",
       " 73,\n",
       " 74,\n",
       " 75,\n",
       " 76,\n",
       " 77,\n",
       " 79,\n",
       " 80,\n",
       " 81,\n",
       " 82,\n",
       " 83,\n",
       " 84,\n",
       " 85,\n",
       " 86,\n",
       " 87,\n",
       " 88,\n",
       " 89,\n",
       " 280,\n",
       " 560,\n",
       " 840,\n",
       " '25',\n",
       " 25)"
      ]
     },
     "execution_count": 730,
     "metadata": {},
     "output_type": "execute_result"
    }
   ],
   "source": [
    "tu+(\"25\",25)"
   ]
  },
  {
   "cell_type": "code",
   "execution_count": 731,
   "metadata": {},
   "outputs": [
    {
     "data": {
      "text/plain": [
       "[0, 1, 2, 3, 4, 5, 6, 7, 8, 9, 10]"
      ]
     },
     "execution_count": 731,
     "metadata": {},
     "output_type": "execute_result"
    }
   ],
   "source": [
    "a=5\n",
    "li = list(range(0,11))\n",
    "li"
   ]
  },
  {
   "cell_type": "code",
   "execution_count": 732,
   "metadata": {},
   "outputs": [
    {
     "data": {
      "text/plain": [
       "False"
      ]
     },
     "execution_count": 732,
     "metadata": {},
     "output_type": "execute_result"
    }
   ],
   "source": [
    "a ==li[0]"
   ]
  },
  {
   "cell_type": "code",
   "execution_count": 734,
   "metadata": {},
   "outputs": [
    {
     "data": {
      "text/plain": [
       "True"
      ]
     },
     "execution_count": 734,
     "metadata": {},
     "output_type": "execute_result"
    }
   ],
   "source": [
    "a== li[5]"
   ]
  },
  {
   "cell_type": "code",
   "execution_count": 740,
   "metadata": {},
   "outputs": [
    {
     "name": "stdout",
     "output_type": "stream",
     "text": [
      "5\n",
      "True\n"
     ]
    }
   ],
   "source": [
    "b=8\n",
    "for i in li:\n",
    "    if(a==i):\n",
    "        print(i)\n",
    "    if(b==i):\n",
    "        print(b==i)"
   ]
  },
  {
   "cell_type": "code",
   "execution_count": 747,
   "metadata": {},
   "outputs": [],
   "source": [
    "first_name =[\"BlueRay\" ,\"Lojack\",\"Upchuck\",\"Do-Rag\" ,\"Gizmo\"]\n",
    "lastName = [\"Burp\" ,\"Zzz\", \"Dogbone\" ,\"Droop\",] #20"
   ]
  },
  {
   "cell_type": "code",
   "execution_count": 742,
   "metadata": {},
   "outputs": [
    {
     "data": {
      "text/plain": [
       "'BlueRay'"
      ]
     },
     "execution_count": 742,
     "metadata": {},
     "output_type": "execute_result"
    }
   ],
   "source": [
    "firstN\n",
    "ame[0]"
   ]
  },
  {
   "cell_type": "code",
   "execution_count": 751,
   "metadata": {},
   "outputs": [
    {
     "ename": "TypeError",
     "evalue": "can only concatenate list (not \"str\") to list",
     "output_type": "error",
     "traceback": [
      "\u001b[1;31m---------------------------------------------------------------------------\u001b[0m",
      "\u001b[1;31mTypeError\u001b[0m                                 Traceback (most recent call last)",
      "\u001b[1;32m<ipython-input-751-93abc67f46c1>\u001b[0m in \u001b[0;36m<module>\u001b[1;34m\u001b[0m\n\u001b[0;32m      1\u001b[0m \u001b[0mg\u001b[0m\u001b[1;33m=\u001b[0m\u001b[1;34m\"sy\"\u001b[0m\u001b[1;33m\u001b[0m\u001b[1;33m\u001b[0m\u001b[0m\n\u001b[1;32m----> 2\u001b[1;33m \u001b[0mprint\u001b[0m\u001b[1;33m(\u001b[0m\u001b[0mfirst_name\u001b[0m \u001b[1;33m+\u001b[0m \u001b[0mg\u001b[0m\u001b[1;33m)\u001b[0m\u001b[1;33m\u001b[0m\u001b[1;33m\u001b[0m\u001b[0m\n\u001b[0m",
      "\u001b[1;31mTypeError\u001b[0m: can only concatenate list (not \"str\") to list"
     ]
    }
   ],
   "source": [
    "\n",
    "print(first_name + g)"
   ]
  },
  {
   "cell_type": "code",
   "execution_count": 767,
   "metadata": {},
   "outputs": [
    {
     "name": "stdout",
     "output_type": "stream",
     "text": [
      "0\n",
      "1\n",
      "2\n",
      "3\n",
      "4\n"
     ]
    }
   ],
   "source": [
    "# print(first_name[0]+\"sy\") # 5\n",
    "for x in range(0,5):\n",
    "    print(x)\n"
   ]
  },
  {
   "cell_type": "code",
   "execution_count": 773,
   "metadata": {},
   "outputs": [
    {
     "name": "stdout",
     "output_type": "stream",
     "text": [
      "BlueRay\n",
      "Lojack\n",
      "Upchuck\n",
      "Do-Rag\n",
      "Gizmo\n"
     ]
    }
   ],
   "source": [
    "for x in range(0,5):\n",
    "    print(first_name[x]) #first_name[0]"
   ]
  },
  {
   "cell_type": "code",
   "execution_count": 777,
   "metadata": {},
   "outputs": [
    {
     "name": "stdout",
     "output_type": "stream",
     "text": [
      "BlueRayBurp\n",
      "LojackBurp\n",
      "UpchuckBurp\n",
      "Do-RagBurp\n",
      "GizmoBurp\n"
     ]
    }
   ],
   "source": [
    "for x in first_name:\n",
    "    print(x+lastName[0]) #first_name[0]"
   ]
  },
  {
   "cell_type": "code",
   "execution_count": 779,
   "metadata": {},
   "outputs": [
    {
     "name": "stdout",
     "output_type": "stream",
     "text": [
      "BlueRayBurp\n",
      "BlueRayZzz\n",
      "BlueRayDogbone\n",
      "BlueRayDroop\n",
      "LojackBurp\n",
      "LojackZzz\n",
      "LojackDogbone\n",
      "LojackDroop\n",
      "UpchuckBurp\n",
      "UpchuckZzz\n",
      "UpchuckDogbone\n",
      "UpchuckDroop\n",
      "Do-RagBurp\n",
      "Do-RagZzz\n",
      "Do-RagDogbone\n",
      "Do-RagDroop\n",
      "GizmoBurp\n",
      "GizmoZzz\n",
      "GizmoDogbone\n",
      "GizmoDroop\n"
     ]
    }
   ],
   "source": [
    "for x in first_name:\n",
    "#     print(x)\n",
    "    for e in lastName:\n",
    "        print(x+e)"
   ]
  },
  {
   "cell_type": "code",
   "execution_count": 780,
   "metadata": {},
   "outputs": [
    {
     "data": {
      "text/plain": [
       "{'fname': 'sadiq', 'lname': 'hanif', 'age': 22, 'study': 'PIAIC'}"
      ]
     },
     "execution_count": 780,
     "metadata": {},
     "output_type": "execute_result"
    }
   ],
   "source": [
    "dic"
   ]
  },
  {
   "cell_type": "code",
   "execution_count": 782,
   "metadata": {},
   "outputs": [],
   "source": [
    "dic[\"address\"] = \"shhsd shjsjsdjck\""
   ]
  },
  {
   "cell_type": "code",
   "execution_count": 783,
   "metadata": {},
   "outputs": [
    {
     "data": {
      "text/plain": [
       "{'fname': 'sadiq',\n",
       " 'lname': 'hanif',\n",
       " 'age': 22,\n",
       " 'study': 'PIAIC',\n",
       " 'address': 'shhsd shjsjsdjck'}"
      ]
     },
     "execution_count": 783,
     "metadata": {},
     "output_type": "execute_result"
    }
   ],
   "source": [
    "dic"
   ]
  },
  {
   "cell_type": "code",
   "execution_count": 785,
   "metadata": {},
   "outputs": [
    {
     "data": {
      "text/plain": [
       "'shhsd shjsjsdjck'"
      ]
     },
     "execution_count": 785,
     "metadata": {},
     "output_type": "execute_result"
    }
   ],
   "source": [
    "dic[\"address\"]"
   ]
  },
  {
   "cell_type": "code",
   "execution_count": 786,
   "metadata": {},
   "outputs": [
    {
     "data": {
      "text/plain": [
       "{'fname': 'sadiq',\n",
       " 'lname': 'hanif',\n",
       " 'age': 22,\n",
       " 'study': 'PIAIC',\n",
       " 'address': 'shhsd shjsjsdjck'}"
      ]
     },
     "execution_count": 786,
     "metadata": {},
     "output_type": "execute_result"
    }
   ],
   "source": [
    "dic"
   ]
  },
  {
   "cell_type": "code",
   "execution_count": 787,
   "metadata": {},
   "outputs": [
    {
     "data": {
      "text/plain": [
       "{'fname': 'sadiq',\n",
       " 'lname': 'hanif',\n",
       " 'age': 22,\n",
       " 'study': 'PIAIC',\n",
       " 'address': 'shhsd shjsjsdjck'}"
      ]
     },
     "execution_count": 787,
     "metadata": {},
     "output_type": "execute_result"
    }
   ],
   "source": [
    "dic"
   ]
  },
  {
   "cell_type": "code",
   "execution_count": 788,
   "metadata": {},
   "outputs": [
    {
     "data": {
      "text/plain": [
       "[{'fname': 'sadiq', 'lname': 'hanif', 'age': 22, 'study': 'PIAIC'},\n",
       " {'fname': 'shoaib', 'lname': 'hanif', 'age': 34, 'study': 'PIAIC'},\n",
       " {'fname': 'talha', 'lname': 'hanif', 'age': 18, 'study': 'Saylani'},\n",
       " {'fname': 'Amin', 'lname': 'hanif', 'age': 25, 'study': 'Memon Fedration'}]"
      ]
     },
     "execution_count": 788,
     "metadata": {},
     "output_type": "execute_result"
    }
   ],
   "source": [
    "detailDic"
   ]
  },
  {
   "cell_type": "code",
   "execution_count": 789,
   "metadata": {},
   "outputs": [],
   "source": [
    "count =0\n",
    "for x in detailDic:\n",
    "    x[\"customer id\"]=count\n",
    "    count+=1"
   ]
  },
  {
   "cell_type": "code",
   "execution_count": 790,
   "metadata": {},
   "outputs": [
    {
     "data": {
      "text/plain": [
       "[{'fname': 'sadiq',\n",
       "  'lname': 'hanif',\n",
       "  'age': 22,\n",
       "  'study': 'PIAIC',\n",
       "  'customer id': 0},\n",
       " {'fname': 'shoaib',\n",
       "  'lname': 'hanif',\n",
       "  'age': 34,\n",
       "  'study': 'PIAIC',\n",
       "  'customer id': 1},\n",
       " {'fname': 'talha',\n",
       "  'lname': 'hanif',\n",
       "  'age': 18,\n",
       "  'study': 'Saylani',\n",
       "  'customer id': 2},\n",
       " {'fname': 'Amin',\n",
       "  'lname': 'hanif',\n",
       "  'age': 25,\n",
       "  'study': 'Memon Fedration',\n",
       "  'customer id': 3}]"
      ]
     },
     "execution_count": 790,
     "metadata": {},
     "output_type": "execute_result"
    }
   ],
   "source": [
    "detailDic"
   ]
  },
  {
   "cell_type": "code",
   "execution_count": 791,
   "metadata": {},
   "outputs": [
    {
     "data": {
      "text/plain": [
       "'PIAIC'"
      ]
     },
     "execution_count": 791,
     "metadata": {},
     "output_type": "execute_result"
    }
   ],
   "source": [
    "detailDic[0][\"study\"]"
   ]
  },
  {
   "cell_type": "code",
   "execution_count": 792,
   "metadata": {},
   "outputs": [
    {
     "data": {
      "text/plain": [
       "'Memon Fedration'"
      ]
     },
     "execution_count": 792,
     "metadata": {},
     "output_type": "execute_result"
    }
   ],
   "source": [
    "detailDic[3][\"study\"]"
   ]
  },
  {
   "cell_type": "code",
   "execution_count": 794,
   "metadata": {},
   "outputs": [],
   "source": [
    "detailDic.append({'fname': 'hanif',\n",
    "  'lname': 'suleman',\n",
    "  'age': 56,\n",
    "  'study': 'Memon Fedration 12',\n",
    "  'customer id': 4})"
   ]
  },
  {
   "cell_type": "code",
   "execution_count": 795,
   "metadata": {},
   "outputs": [
    {
     "data": {
      "text/plain": [
       "[{'fname': 'sadiq',\n",
       "  'lname': 'hanif',\n",
       "  'age': 22,\n",
       "  'study': 'PIAIC',\n",
       "  'customer id': 0},\n",
       " {'fname': 'shoaib',\n",
       "  'lname': 'hanif',\n",
       "  'age': 34,\n",
       "  'study': 'PIAIC',\n",
       "  'customer id': 1},\n",
       " {'fname': 'talha',\n",
       "  'lname': 'hanif',\n",
       "  'age': 18,\n",
       "  'study': 'Saylani',\n",
       "  'customer id': 2},\n",
       " {'fname': 'Amin',\n",
       "  'lname': 'hanif',\n",
       "  'age': 25,\n",
       "  'study': 'Memon Fedration',\n",
       "  'customer id': 3},\n",
       " {'fname': 'hanif',\n",
       "  'lname': 'suleman',\n",
       "  'age': 56,\n",
       "  'study': 'Memon Fedration 12',\n",
       "  'customer id': 4}]"
      ]
     },
     "execution_count": 795,
     "metadata": {},
     "output_type": "execute_result"
    }
   ],
   "source": [
    "detailDic"
   ]
  },
  {
   "cell_type": "code",
   "execution_count": 798,
   "metadata": {},
   "outputs": [],
   "source": [
    "for x in detailDic:\n",
    "    x[\"work\"]=[x[\"fname\"]+\"work1\",x[\"fname\"]+\"work2\",x[\"fname\"]+\"work3\"]"
   ]
  },
  {
   "cell_type": "code",
   "execution_count": 799,
   "metadata": {},
   "outputs": [
    {
     "data": {
      "text/plain": [
       "[{'fname': 'sadiq',\n",
       "  'lname': 'hanif',\n",
       "  'age': 22,\n",
       "  'study': 'PIAIC',\n",
       "  'customer id': 0,\n",
       "  'work': ['sadiqwork1', 'sadiqwork2', 'sadiqwork3']},\n",
       " {'fname': 'shoaib',\n",
       "  'lname': 'hanif',\n",
       "  'age': 34,\n",
       "  'study': 'PIAIC',\n",
       "  'customer id': 1,\n",
       "  'work': ['shoaibwork1', 'shoaibwork2', 'shoaibwork3']},\n",
       " {'fname': 'talha',\n",
       "  'lname': 'hanif',\n",
       "  'age': 18,\n",
       "  'study': 'Saylani',\n",
       "  'customer id': 2,\n",
       "  'work': ['talhawork1', 'talhawork2', 'talhawork3']},\n",
       " {'fname': 'Amin',\n",
       "  'lname': 'hanif',\n",
       "  'age': 25,\n",
       "  'study': 'Memon Fedration',\n",
       "  'customer id': 3,\n",
       "  'work': ['Aminwork1', 'Aminwork2', 'Aminwork3']},\n",
       " {'fname': 'hanif',\n",
       "  'lname': 'suleman',\n",
       "  'age': 56,\n",
       "  'study': 'Memon Fedration 12',\n",
       "  'customer id': 4,\n",
       "  'work': ['hanifwork1', 'hanifwork2', 'hanifwork3']}]"
      ]
     },
     "execution_count": 799,
     "metadata": {},
     "output_type": "execute_result"
    }
   ],
   "source": [
    "detailDic"
   ]
  },
  {
   "cell_type": "code",
   "execution_count": 804,
   "metadata": {},
   "outputs": [
    {
     "data": {
      "text/plain": [
       "['hanifwork1', 'hanifwork2', 'hanifwork3']"
      ]
     },
     "execution_count": 804,
     "metadata": {},
     "output_type": "execute_result"
    }
   ],
   "source": [
    "detailDic[len(detailDic)-1][\"work\"]"
   ]
  },
  {
   "cell_type": "code",
   "execution_count": 805,
   "metadata": {},
   "outputs": [
    {
     "data": {
      "text/plain": [
       "'hanifwork2'"
      ]
     },
     "execution_count": 805,
     "metadata": {},
     "output_type": "execute_result"
    }
   ],
   "source": [
    "detailDic[len(detailDic)-1][\"work\"][1]"
   ]
  },
  {
   "cell_type": "code",
   "execution_count": 806,
   "metadata": {},
   "outputs": [
    {
     "data": {
      "text/plain": [
       "[{'fname': 'sadiq',\n",
       "  'lname': 'hanif',\n",
       "  'age': 22,\n",
       "  'study': 'PIAIC',\n",
       "  'customer id': 0,\n",
       "  'work': ['sadiqwork1', 'sadiqwork2', 'sadiqwork3']},\n",
       " {'fname': 'shoaib',\n",
       "  'lname': 'hanif',\n",
       "  'age': 34,\n",
       "  'study': 'PIAIC',\n",
       "  'customer id': 1,\n",
       "  'work': ['shoaibwork1', 'shoaibwork2', 'shoaibwork3']},\n",
       " {'fname': 'talha',\n",
       "  'lname': 'hanif',\n",
       "  'age': 18,\n",
       "  'study': 'Saylani',\n",
       "  'customer id': 2,\n",
       "  'work': ['talhawork1', 'talhawork2', 'talhawork3']},\n",
       " {'fname': 'Amin',\n",
       "  'lname': 'hanif',\n",
       "  'age': 25,\n",
       "  'study': 'Memon Fedration',\n",
       "  'customer id': 3,\n",
       "  'work': ['Aminwork1', 'Aminwork2', 'Aminwork3']},\n",
       " {'fname': 'hanif',\n",
       "  'lname': 'suleman',\n",
       "  'age': 56,\n",
       "  'study': 'Memon Fedration 12',\n",
       "  'customer id': 4,\n",
       "  'work': ['hanifwork1', 'hanifwork2', 'hanifwork3']}]"
      ]
     },
     "execution_count": 806,
     "metadata": {},
     "output_type": "execute_result"
    }
   ],
   "source": [
    "detailDic"
   ]
  },
  {
   "cell_type": "code",
   "execution_count": 814,
   "metadata": {},
   "outputs": [],
   "source": [
    "customers={}\n",
    "count = 0\n",
    "for x in detailDic:\n",
    "    customers.update({count:x})\n",
    "    count+=1"
   ]
  },
  {
   "cell_type": "code",
   "execution_count": 815,
   "metadata": {},
   "outputs": [
    {
     "data": {
      "text/plain": [
       "{0: {'fname': 'sadiq',\n",
       "  'lname': 'hanif',\n",
       "  'age': 22,\n",
       "  'study': 'PIAIC',\n",
       "  'customer id': 0,\n",
       "  'work': ['sadiqwork1', 'sadiqwork2', 'sadiqwork3']},\n",
       " 1: {'fname': 'shoaib',\n",
       "  'lname': 'hanif',\n",
       "  'age': 34,\n",
       "  'study': 'PIAIC',\n",
       "  'customer id': 1,\n",
       "  'work': ['shoaibwork1', 'shoaibwork2', 'shoaibwork3']},\n",
       " 2: {'fname': 'talha',\n",
       "  'lname': 'hanif',\n",
       "  'age': 18,\n",
       "  'study': 'Saylani',\n",
       "  'customer id': 2,\n",
       "  'work': ['talhawork1', 'talhawork2', 'talhawork3']},\n",
       " 3: {'fname': 'Amin',\n",
       "  'lname': 'hanif',\n",
       "  'age': 25,\n",
       "  'study': 'Memon Fedration',\n",
       "  'customer id': 3,\n",
       "  'work': ['Aminwork1', 'Aminwork2', 'Aminwork3']},\n",
       " 4: {'fname': 'hanif',\n",
       "  'lname': 'suleman',\n",
       "  'age': 56,\n",
       "  'study': 'Memon Fedration 12',\n",
       "  'customer id': 4,\n",
       "  'work': ['hanifwork1', 'hanifwork2', 'hanifwork3']}}"
      ]
     },
     "execution_count": 815,
     "metadata": {},
     "output_type": "execute_result"
    }
   ],
   "source": [
    "customers"
   ]
  },
  {
   "cell_type": "code",
   "execution_count": 816,
   "metadata": {},
   "outputs": [
    {
     "name": "stdout",
     "output_type": "stream",
     "text": [
      "{'fname': 'hanif', 'lname': 'suleman', 'age': 56, 'study': 'Memon Fedration 12', 'customer id': 4, 'work': ['hanifwork1', 'hanifwork2', 'hanifwork3']}\n"
     ]
    }
   ],
   "source": [
    "print(customers[4])"
   ]
  },
  {
   "cell_type": "code",
   "execution_count": 819,
   "metadata": {},
   "outputs": [
    {
     "name": "stdout",
     "output_type": "stream",
     "text": [
      "4\n"
     ]
    }
   ],
   "source": [
    "print(customers[4][\"customer id\"])"
   ]
  },
  {
   "cell_type": "code",
   "execution_count": 822,
   "metadata": {},
   "outputs": [
    {
     "data": {
      "text/plain": [
       "6"
      ]
     },
     "execution_count": 822,
     "metadata": {},
     "output_type": "execute_result"
    }
   ],
   "source": [
    "len(detailDic[0])"
   ]
  },
  {
   "cell_type": "code",
   "execution_count": 821,
   "metadata": {},
   "outputs": [
    {
     "data": {
      "text/plain": [
       "[{'fname': 'sadiq',\n",
       "  'lname': 'hanif',\n",
       "  'age': 22,\n",
       "  'study': 'PIAIC',\n",
       "  'customer id': 0,\n",
       "  'work': ['sadiqwork1', 'sadiqwork2', 'sadiqwork3']},\n",
       " {'fname': 'shoaib',\n",
       "  'lname': 'hanif',\n",
       "  'age': 34,\n",
       "  'study': 'PIAIC',\n",
       "  'customer id': 1,\n",
       "  'work': ['shoaibwork1', 'shoaibwork2', 'shoaibwork3']},\n",
       " {'fname': 'talha',\n",
       "  'lname': 'hanif',\n",
       "  'age': 18,\n",
       "  'study': 'Saylani',\n",
       "  'customer id': 2,\n",
       "  'work': ['talhawork1', 'talhawork2', 'talhawork3']},\n",
       " {'fname': 'Amin',\n",
       "  'lname': 'hanif',\n",
       "  'age': 25,\n",
       "  'study': 'Memon Fedration',\n",
       "  'customer id': 3,\n",
       "  'work': ['Aminwork1', 'Aminwork2', 'Aminwork3']},\n",
       " {'fname': 'hanif',\n",
       "  'lname': 'suleman',\n",
       "  'age': 56,\n",
       "  'study': 'Memon Fedration 12',\n",
       "  'customer id': 4,\n",
       "  'work': ['hanifwork1', 'hanifwork2', 'hanifwork3']}]"
      ]
     },
     "execution_count": 821,
     "metadata": {},
     "output_type": "execute_result"
    }
   ],
   "source": [
    "detailDic"
   ]
  },
  {
   "cell_type": "code",
   "execution_count": 823,
   "metadata": {},
   "outputs": [
    {
     "data": {
      "text/plain": [
       "{1: 's', 2: 'a'}"
      ]
     },
     "execution_count": 823,
     "metadata": {},
     "output_type": "execute_result"
    }
   ],
   "source": [
    "newDic = dict([(1,\"s\"),(2,\"a\")])\n",
    "newDic"
   ]
  },
  {
   "cell_type": "code",
   "execution_count": 827,
   "metadata": {},
   "outputs": [
    {
     "name": "stdout",
     "output_type": "stream",
     "text": [
      "{0: 'Geeks', 2: 'For', 3: 1, 'Value_set': (2, 3, 4)}\n"
     ]
    }
   ],
   "source": [
    "Dict = {} \n",
    "Dict[0] = 'Geeks'\n",
    "Dict[2] = 'For'\n",
    "Dict[3] = 1\n",
    "Dict['Value_set'] = 2, 3, 4\n",
    "\n",
    "print(Dict)"
   ]
  },
  {
   "cell_type": "code",
   "execution_count": 828,
   "metadata": {},
   "outputs": [
    {
     "data": {
      "text/plain": [
       "tuple"
      ]
     },
     "execution_count": 828,
     "metadata": {},
     "output_type": "execute_result"
    }
   ],
   "source": [
    "type(Dict[\"Value_set\"])"
   ]
  },
  {
   "cell_type": "code",
   "execution_count": 831,
   "metadata": {},
   "outputs": [],
   "source": [
    "Dict[\"new_List\"]=[4,5,6]"
   ]
  },
  {
   "cell_type": "code",
   "execution_count": 832,
   "metadata": {},
   "outputs": [
    {
     "data": {
      "text/plain": [
       "{0: 'Geeks', 2: 'For', 3: 1, 'Value_set': (2, 3, 4), 'new_List': [4, 5, 6]}"
      ]
     },
     "execution_count": 832,
     "metadata": {},
     "output_type": "execute_result"
    }
   ],
   "source": [
    "Dict"
   ]
  },
  {
   "cell_type": "code",
   "execution_count": 833,
   "metadata": {},
   "outputs": [
    {
     "data": {
      "text/plain": [
       "list"
      ]
     },
     "execution_count": 833,
     "metadata": {},
     "output_type": "execute_result"
    }
   ],
   "source": [
    "type(Dict[\"new_List\"])"
   ]
  },
  {
   "cell_type": "code",
   "execution_count": 834,
   "metadata": {},
   "outputs": [
    {
     "data": {
      "text/plain": [
       "tuple"
      ]
     },
     "execution_count": 834,
     "metadata": {},
     "output_type": "execute_result"
    }
   ],
   "source": [
    "newSet = 1,2,3\n",
    "type(newSet)"
   ]
  },
  {
   "cell_type": "code",
   "execution_count": 835,
   "metadata": {},
   "outputs": [
    {
     "data": {
      "text/plain": [
       "[4, 5, 6]"
      ]
     },
     "execution_count": 835,
     "metadata": {},
     "output_type": "execute_result"
    }
   ],
   "source": [
    "Dict.get(\"new_List\")"
   ]
  },
  {
   "cell_type": "code",
   "execution_count": 836,
   "metadata": {},
   "outputs": [
    {
     "data": {
      "text/plain": [
       "'rtyuiirrryuiirrr'"
      ]
     },
     "execution_count": 836,
     "metadata": {},
     "output_type": "execute_result"
    }
   ],
   "source": [
    "string"
   ]
  },
  {
   "cell_type": "code",
   "execution_count": 837,
   "metadata": {},
   "outputs": [
    {
     "data": {
      "text/plain": [
       "'rtyuiirrryuiirrr'"
      ]
     },
     "execution_count": 837,
     "metadata": {},
     "output_type": "execute_result"
    }
   ],
   "source": [
    "string.lower()"
   ]
  },
  {
   "cell_type": "code",
   "execution_count": 838,
   "metadata": {},
   "outputs": [
    {
     "data": {
      "text/plain": [
       "'RTYUIIRRRYUIIRRR'"
      ]
     },
     "execution_count": 838,
     "metadata": {},
     "output_type": "execute_result"
    }
   ],
   "source": [
    "string.upper()"
   ]
  },
  {
   "cell_type": "code",
   "execution_count": 839,
   "metadata": {},
   "outputs": [
    {
     "data": {
      "text/plain": [
       "'Rtyuiirrryuiirrr'"
      ]
     },
     "execution_count": 839,
     "metadata": {},
     "output_type": "execute_result"
    }
   ],
   "source": [
    "string.capitalize()"
   ]
  },
  {
   "cell_type": "code",
   "execution_count": 840,
   "metadata": {},
   "outputs": [],
   "source": [
    "string = \"j asj  jhjkhas kjjh sa\""
   ]
  },
  {
   "cell_type": "code",
   "execution_count": 841,
   "metadata": {},
   "outputs": [
    {
     "data": {
      "text/plain": [
       "'J asj  jhjkhas kjjh sa'"
      ]
     },
     "execution_count": 841,
     "metadata": {},
     "output_type": "execute_result"
    }
   ],
   "source": [
    "string.capitalize()"
   ]
  },
  {
   "cell_type": "code",
   "execution_count": 842,
   "metadata": {},
   "outputs": [
    {
     "data": {
      "text/plain": [
       "'J Asj  Jhjkhas Kjjh Sa'"
      ]
     },
     "execution_count": 842,
     "metadata": {},
     "output_type": "execute_result"
    }
   ],
   "source": [
    "string.title()"
   ]
  },
  {
   "cell_type": "code",
   "execution_count": null,
   "metadata": {},
   "outputs": [],
   "source": []
  }
 ],
 "metadata": {
  "kernelspec": {
   "display_name": "Python 3",
   "language": "python",
   "name": "python3"
  },
  "language_info": {
   "codemirror_mode": {
    "name": "ipython",
    "version": 3
   },
   "file_extension": ".py",
   "mimetype": "text/x-python",
   "name": "python",
   "nbconvert_exporter": "python",
   "pygments_lexer": "ipython3",
   "version": "3.7.3"
  }
 },
 "nbformat": 4,
 "nbformat_minor": 2
}
