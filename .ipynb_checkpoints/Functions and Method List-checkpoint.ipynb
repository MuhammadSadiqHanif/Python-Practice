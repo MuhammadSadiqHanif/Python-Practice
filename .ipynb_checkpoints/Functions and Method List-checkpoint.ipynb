{
 "cells": [
  {
   "cell_type": "code",
   "execution_count": null,
   "metadata": {},
   "outputs": [],
   "source": [
    "# Function List\n",
    "num = int(input(\"enter a number\")) # int() it make a string ot integer (integer is whole num ex 0 ,2 ,10)\n",
    "num = float() # float() it make a string to decimal number (for example if a user enter a string in input \"3.65\" than it convert it to decimal number)"
   ]
  }
 ],
 "metadata": {
  "kernelspec": {
   "display_name": "Python 3",
   "language": "python",
   "name": "python3"
  },
  "language_info": {
   "codemirror_mode": {
    "name": "ipython",
    "version": 3
   },
   "file_extension": ".py",
   "mimetype": "text/x-python",
   "name": "python",
   "nbconvert_exporter": "python",
   "pygments_lexer": "ipython3",
   "version": "3.7.3"
  }
 },
 "nbformat": 4,
 "nbformat_minor": 2
}
