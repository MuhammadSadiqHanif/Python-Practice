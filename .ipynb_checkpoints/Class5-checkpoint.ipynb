{
 "cells": [
  {
   "cell_type": "code",
   "execution_count": 1,
   "metadata": {},
   "outputs": [],
   "source": [
    "#Revision iin class 4\n",
    "# object have two thin method and attribute\n",
    "#expmle mic having a button is a method (method=having some action)\n",
    "#class==(list is a class, tupple,) "
   ]
  },
  {
   "cell_type": "markdown",
   "metadata": {},
   "source": [
    "# OOP object oriented programing"
   ]
  },
  {
   "cell_type": "code",
   "execution_count": 78,
   "metadata": {},
   "outputs": [],
   "source": [
    "# if def is in class then it is method\n",
    "# if def otside then it is function\n",
    "class Man():\n",
    "    def __init__(self, name, fname, qualification): ## for making constructor  \"__init__\" ## self is a faltoo right now #thses are all call attributes\n",
    "        self.name = name \n",
    "        self.fname = fname\n",
    "        self.qualification = qualification\n",
    "        self.course = \"A.I\" # added afterward pinrt\n",
    "        \n",
    "    def speak(self, words =\"Hello\"):\n",
    "        print(words) # why we have not written self\n",
    "        \n",
    "    def eatinf(self,bread=\"Roti\"):\n",
    "        print(bread)\n",
    "    \n",
    "    def update(self ,name):\n",
    "        self.name = name ## for updating name"
   ]
  },
  {
   "cell_type": "code",
   "execution_count": 79,
   "metadata": {},
   "outputs": [],
   "source": [
    "obj1 = Man(\"Qasim\",\"Alsam\", \"BCSS\")\n",
    "obj2 = Man(\"Mansoor\",\"Manzoor\", \"Phd\")\n",
    "obj3 = Man(\"Waqad\",\"Munawr\", \"ACMA \")"
   ]
  },
  {
   "cell_type": "code",
   "execution_count": 80,
   "metadata": {},
   "outputs": [
    {
     "name": "stdout",
     "output_type": "stream",
     "text": [
      "Qasim\n"
     ]
    }
   ],
   "source": [
    "print(obj1.name)"
   ]
  },
  {
   "cell_type": "code",
   "execution_count": 81,
   "metadata": {},
   "outputs": [
    {
     "name": "stdout",
     "output_type": "stream",
     "text": [
      "Hello\n"
     ]
    }
   ],
   "source": [
    "obj1.speak()"
   ]
  },
  {
   "cell_type": "code",
   "execution_count": 82,
   "metadata": {},
   "outputs": [
    {
     "name": "stdout",
     "output_type": "stream",
     "text": [
      "bye bye\n"
     ]
    }
   ],
   "source": [
    "obj1.speak(\"bye bye\")"
   ]
  },
  {
   "cell_type": "code",
   "execution_count": 83,
   "metadata": {},
   "outputs": [],
   "source": [
    "## make an class Cat\n",
    "class Cat():\n",
    "    center = \"SAYLANI HED OFFICE\" # class variable\n",
    "    counter = 0\n",
    "    def __init__(self, name, breed, color): ## this is a consutru function\n",
    "        self.name = name\n",
    "        self.breed = breed\n",
    "        self.color = color\n",
    "        Cat.counter +=1\n",
    "        \n",
    "    def eat(self , food=\"meat\", drink= \"milk\"): \n",
    "        print(\"food : \", food)\n",
    "        print(\"drink : \", drink)        "
   ]
  },
  {
   "cell_type": "code",
   "execution_count": 84,
   "metadata": {},
   "outputs": [
    {
     "name": "stdout",
     "output_type": "stream",
     "text": [
      "fuffy\n"
     ]
    }
   ],
   "source": [
    "cat_1 = Cat(\"fuffy\",\"small\", \"grey\")\n",
    "print(cat_1.name)"
   ]
  },
  {
   "cell_type": "code",
   "execution_count": 85,
   "metadata": {},
   "outputs": [
    {
     "name": "stdout",
     "output_type": "stream",
     "text": [
      "food :  meat\n",
      "drink :  milk\n"
     ]
    }
   ],
   "source": [
    "cat_1.eat()"
   ]
  },
  {
   "cell_type": "code",
   "execution_count": 86,
   "metadata": {},
   "outputs": [
    {
     "data": {
      "text/plain": [
       "'SAYLANI HED OFFICE'"
      ]
     },
     "execution_count": 86,
     "metadata": {},
     "output_type": "execute_result"
    }
   ],
   "source": [
    "cat_1.center # class variable"
   ]
  },
  {
   "cell_type": "code",
   "execution_count": 87,
   "metadata": {},
   "outputs": [
    {
     "name": "stdout",
     "output_type": "stream",
     "text": [
      "SAYLANI HED OFFICE\n",
      "SAYLANI HED OFFICE\n",
      "1\n"
     ]
    }
   ],
   "source": [
    "print(Cat.center) ## its a class varible\n",
    "print(cat_1.center) ## its an new object\n",
    "print(Cat.counter)"
   ]
  },
  {
   "cell_type": "markdown",
   "metadata": {},
   "source": [
    "<h2>Inheritance</h2> "
   ]
  },
  {
   "cell_type": "code",
   "execution_count": 90,
   "metadata": {},
   "outputs": [],
   "source": [
    "# manking child class\n",
    "class Baba(Man):\n",
    "    pass"
   ]
  },
  {
   "cell_type": "code",
   "execution_count": 91,
   "metadata": {},
   "outputs": [],
   "source": [
    "baba_1 = (\"ali\", \"haider\", \"Nursury\" )"
   ]
  },
  {
   "cell_type": "code",
   "execution_count": 105,
   "metadata": {},
   "outputs": [],
   "source": [
    "# make man class in it 3 method and attribute\n",
    "class Gents(Man):\n",
    "    def work(self,work=\"business\"):\n",
    "        print(work)"
   ]
  },
  {
   "cell_type": "code",
   "execution_count": 114,
   "metadata": {},
   "outputs": [],
   "source": [
    "class Ladies(Man):\n",
    "    def shoping(self,thing=\"all things\"):\n",
    "        print(thing)"
   ]
  },
  {
   "cell_type": "code",
   "execution_count": 125,
   "metadata": {},
   "outputs": [
    {
     "name": "stdout",
     "output_type": "stream",
     "text": [
      "Roti\n"
     ]
    }
   ],
   "source": [
    "Ladies.eatinf(\"aaaa\")"
   ]
  },
  {
   "cell_type": "code",
   "execution_count": 128,
   "metadata": {},
   "outputs": [
    {
     "name": "stdout",
     "output_type": "stream",
     "text": [
      "all things\n"
     ]
    }
   ],
   "source": [
    "Ladies.shoping(\"sdfsdf\")"
   ]
  },
  {
   "cell_type": "code",
   "execution_count": 136,
   "metadata": {},
   "outputs": [],
   "source": [
    "# morporishim\n",
    "\n",
    "\n",
    "\n",
    "# Encupcule\n",
    "# if you want to a=make priate attribue tak add two time \"_\"\n",
    "# for exampll self.__name=name\n",
    "# same as with method for example = def __eating():\n",
    "\n",
    "\n",
    "# ABSTRACT class\n",
    "\n",
    "#koi direct intance na ban sakay \n",
    "# but can make grand child intance\n",
    "#dont have parathesis \"()\"\n",
    "\n"
   ]
  },
  {
   "cell_type": "code",
   "execution_count": null,
   "metadata": {},
   "outputs": [],
   "source": []
  }
 ],
 "metadata": {
  "kernelspec": {
   "display_name": "Python 3",
   "language": "python",
   "name": "python3"
  },
  "language_info": {
   "codemirror_mode": {
    "name": "ipython",
    "version": 3
   },
   "file_extension": ".py",
   "mimetype": "text/x-python",
   "name": "python",
   "nbconvert_exporter": "python",
   "pygments_lexer": "ipython3",
   "version": "3.7.3"
  }
 },
 "nbformat": 4,
 "nbformat_minor": 2
}
