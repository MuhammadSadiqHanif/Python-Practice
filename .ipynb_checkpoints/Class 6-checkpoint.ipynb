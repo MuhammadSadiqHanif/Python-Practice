{
 "cells": [
  {
   "cell_type": "code",
   "execution_count": 2,
   "metadata": {},
   "outputs": [],
   "source": [
    "# Expection handler \n",
    "\n",
    "#(Expection errors:-on run time errors example their is a fuction of division user gives a numerator 0 and denomenator 0 the whole appilcation stops)\n",
    "\n",
    "# ?? for help\n"
   ]
  },
  {
   "cell_type": "code",
   "execution_count": 3,
   "metadata": {},
   "outputs": [
    {
     "ename": "ZeroDivisionError",
     "evalue": "division by zero",
     "output_type": "error",
     "traceback": [
      "\u001b[1;31m---------------------------------------------------------------------------\u001b[0m",
      "\u001b[1;31mZeroDivisionError\u001b[0m                         Traceback (most recent call last)",
      "\u001b[1;32m<ipython-input-3-f61a43f66f7d>\u001b[0m in \u001b[0;36m<module>\u001b[1;34m\u001b[0m\n\u001b[0;32m      1\u001b[0m \u001b[0ma\u001b[0m \u001b[1;33m=\u001b[0m \u001b[1;36m20\u001b[0m\u001b[1;33m\u001b[0m\u001b[1;33m\u001b[0m\u001b[0m\n\u001b[0;32m      2\u001b[0m \u001b[0mb\u001b[0m \u001b[1;33m=\u001b[0m \u001b[1;36m0\u001b[0m\u001b[1;33m\u001b[0m\u001b[1;33m\u001b[0m\u001b[0m\n\u001b[1;32m----> 3\u001b[1;33m \u001b[0mprint\u001b[0m\u001b[1;33m(\u001b[0m\u001b[0ma\u001b[0m\u001b[1;33m/\u001b[0m\u001b[0mb\u001b[0m\u001b[1;33m)\u001b[0m\u001b[1;33m\u001b[0m\u001b[1;33m\u001b[0m\u001b[0m\n\u001b[0m",
      "\u001b[1;31mZeroDivisionError\u001b[0m: division by zero"
     ]
    }
   ],
   "source": [
    "a = 20\n",
    "b = 0\n",
    "print(a/b)"
   ]
  },
  {
   "cell_type": "code",
   "execution_count": 11,
   "metadata": {},
   "outputs": [
    {
     "name": "stdout",
     "output_type": "stream",
     "text": [
      "Num1 for nomenator6\n",
      "Num2 for denometor6\n",
      "1.0\n"
     ]
    }
   ],
   "source": [
    "a = int(input(\"Num1 for nomenator\"))\n",
    "b = int(input(\"Num2 for denometor\"))\n",
    "try:\n",
    "    print(a/b)\n",
    "except ZeroDivisionError:\n",
    "    print(\"you ca not divide by zero\")"
   ]
  },
  {
   "cell_type": "code",
   "execution_count": 17,
   "metadata": {},
   "outputs": [
    {
     "name": "stdout",
     "output_type": "stream",
     "text": [
      "Handle ZeroDivisionError\n",
      "5\n"
     ]
    }
   ],
   "source": [
    "a = 5\n",
    "b = 0\n",
    "try:\n",
    "    c = a/b\n",
    "except ZeroDivisionError:\n",
    "    print(\"Handle ZeroDivisionError\")\n",
    "else:\n",
    "    print(c)\n",
    "    \n",
    "print(a)"
   ]
  },
  {
   "cell_type": "code",
   "execution_count": 21,
   "metadata": {},
   "outputs": [
    {
     "name": "stdout",
     "output_type": "stream",
     "text": [
      "Handle ZeroDivisionError\n"
     ]
    }
   ],
   "source": [
    "a= 5\n",
    "b = 0\n",
    "d=[]\n",
    "try:\n",
    "    c= a/b\n",
    "    e=d[5]\n",
    "except ZeroDivisionError:\n",
    "    print(\"Handle ZeroDivisionError\")\n",
    "except IndexError:\n",
    "    print(\"Handle IndexError\")\n",
    "else:\n",
    "    print(c)\n",
    "    print(e)\n",
    "    \n",
    "    #showinng you anly one exceprtion"
   ]
  },
  {
   "cell_type": "code",
   "execution_count": 25,
   "metadata": {},
   "outputs": [
    {
     "name": "stdout",
     "output_type": "stream",
     "text": [
      "Handle ZeroDivisionError Handle IndexError\n"
     ]
    }
   ],
   "source": [
    "a= 5\n",
    "b = 3\n",
    "d=[]\n",
    "try:\n",
    "    c= a/b\n",
    "    e=d[5]\n",
    "except (ZeroDivisionError ,IndexError): #(both exception \",\" seprated)\n",
    "    print(\"Handle ZeroDivisionError\" + \" Handle IndexError\")\n",
    "else:\n",
    "    print(c)\n",
    "    print(e)"
   ]
  },
  {
   "cell_type": "code",
   "execution_count": 26,
   "metadata": {},
   "outputs": [
    {
     "name": "stdout",
     "output_type": "stream",
     "text": [
      "Handle Error\n"
     ]
    }
   ],
   "source": [
    "a = 5\n",
    "b = 0\n",
    "d = []\n",
    "try:\n",
    "    c = a/b\n",
    "    e = d[5]\n",
    "except:\n",
    "    print(\"Handle Error\")\n",
    "else:\n",
    "    print(c)"
   ]
  },
  {
   "cell_type": "code",
   "execution_count": 43,
   "metadata": {},
   "outputs": [
    {
     "name": "stdout",
     "output_type": "stream",
     "text": [
      "Handle Error ==  division by zero\n"
     ]
    }
   ],
   "source": [
    "## Dynamic messages of error\n",
    "a = 5\n",
    "b = 0\n",
    "d = []\n",
    "try:\n",
    "    c = a/b\n",
    "#     e = d[5]\n",
    "    open(\"f1.py\")\n",
    "except Exception as e: # \"as\" is for making short name \n",
    "    print(\"Handle Error == \" +str(e))\n",
    "    # or print(\"Handle Error == \" , e)\n",
    "else:\n",
    "    print(c)\n",
    "\n",
    "# print('HelloWorld')"
   ]
  },
  {
   "cell_type": "code",
   "execution_count": 38,
   "metadata": {},
   "outputs": [
    {
     "name": "stdout",
     "output_type": "stream",
     "text": [
      "Handle Error == list index out of range\n"
     ]
    }
   ],
   "source": [
    "a = 5\n",
    "b = 2\n",
    "d = []\n",
    "try:\n",
    "    c = a/b\n",
    "    e = d[5]\n",
    "except ZeroDivisionError:\n",
    "    print(\"Handel ZeroDivisionError\")\n",
    "except Exception as e:\n",
    "    print(\"Handle Error == \" +str(e))\n",
    "else:\n",
    "    print(c)\n"
   ]
  },
  {
   "cell_type": "code",
   "execution_count": 39,
   "metadata": {},
   "outputs": [
    {
     "name": "stdout",
     "output_type": "stream",
     "text": [
      "Handle Error\n",
      "Finally will always run\n"
     ]
    }
   ],
   "source": [
    "a = 5\n",
    "b = 5\n",
    "d = []\n",
    "try:\n",
    "    c = a/b\n",
    "    e = d[5]\n",
    "except ZeroDivisionError:\n",
    "    print(\"Handel ZeroDivisionError\")\n",
    "except:\n",
    "    print(\"Handle Error\")\n",
    "else:\n",
    "    print(c)\n",
    "finally:\n",
    "    print(\"Finally will always run\")"
   ]
  },
  {
   "cell_type": "code",
   "execution_count": 45,
   "metadata": {},
   "outputs": [
    {
     "ename": "Exception",
     "evalue": "Age can not be greater then 80 and less then 16",
     "output_type": "error",
     "traceback": [
      "\u001b[1;31m---------------------------------------------------------------------------\u001b[0m",
      "\u001b[1;31mException\u001b[0m                                 Traceback (most recent call last)",
      "\u001b[1;32m<ipython-input-45-33597bdbfecf>\u001b[0m in \u001b[0;36m<module>\u001b[1;34m\u001b[0m\n\u001b[0;32m      7\u001b[0m         \u001b[0mself\u001b[0m\u001b[1;33m.\u001b[0m\u001b[0mage\u001b[0m \u001b[1;33m=\u001b[0m \u001b[0mage\u001b[0m\u001b[1;33m\u001b[0m\u001b[1;33m\u001b[0m\u001b[0m\n\u001b[0;32m      8\u001b[0m \u001b[1;33m\u001b[0m\u001b[0m\n\u001b[1;32m----> 9\u001b[1;33m \u001b[0mst\u001b[0m \u001b[1;33m=\u001b[0m \u001b[0mStudent\u001b[0m\u001b[1;33m(\u001b[0m\u001b[1;34m\"Hello\"\u001b[0m\u001b[1;33m,\u001b[0m\u001b[1;36m600\u001b[0m\u001b[1;33m)\u001b[0m\u001b[1;33m\u001b[0m\u001b[1;33m\u001b[0m\u001b[0m\n\u001b[0m\u001b[0;32m     10\u001b[0m \u001b[0mprint\u001b[0m\u001b[1;33m(\u001b[0m\u001b[0mst\u001b[0m\u001b[1;33m.\u001b[0m\u001b[0mage\u001b[0m\u001b[1;33m)\u001b[0m\u001b[1;33m\u001b[0m\u001b[1;33m\u001b[0m\u001b[0m\n",
      "\u001b[1;32m<ipython-input-45-33597bdbfecf>\u001b[0m in \u001b[0;36m__init__\u001b[1;34m(self, name, age)\u001b[0m\n\u001b[0;32m      3\u001b[0m     \u001b[1;32mdef\u001b[0m \u001b[0m__init__\u001b[0m\u001b[1;33m(\u001b[0m\u001b[0mself\u001b[0m\u001b[1;33m,\u001b[0m\u001b[0mname\u001b[0m\u001b[1;33m,\u001b[0m\u001b[0mage\u001b[0m\u001b[1;33m)\u001b[0m\u001b[1;33m:\u001b[0m\u001b[1;33m\u001b[0m\u001b[1;33m\u001b[0m\u001b[0m\n\u001b[0;32m      4\u001b[0m         \u001b[1;32mif\u001b[0m \u001b[0mage\u001b[0m \u001b[1;33m>\u001b[0m \u001b[1;36m80\u001b[0m \u001b[1;32mor\u001b[0m \u001b[0mage\u001b[0m \u001b[1;33m<\u001b[0m\u001b[1;36m16\u001b[0m\u001b[1;33m:\u001b[0m\u001b[1;33m\u001b[0m\u001b[1;33m\u001b[0m\u001b[0m\n\u001b[1;32m----> 5\u001b[1;33m             \u001b[1;32mraise\u001b[0m \u001b[0mException\u001b[0m\u001b[1;33m(\u001b[0m\u001b[1;34m\"Age can not be greater then 80 and less then 16\"\u001b[0m\u001b[1;33m)\u001b[0m\u001b[1;33m\u001b[0m\u001b[1;33m\u001b[0m\u001b[0m\n\u001b[0m\u001b[0;32m      6\u001b[0m         \u001b[0mself\u001b[0m\u001b[1;33m.\u001b[0m\u001b[0mname\u001b[0m \u001b[1;33m=\u001b[0m \u001b[0mname\u001b[0m\u001b[1;33m\u001b[0m\u001b[1;33m\u001b[0m\u001b[0m\n\u001b[0;32m      7\u001b[0m         \u001b[0mself\u001b[0m\u001b[1;33m.\u001b[0m\u001b[0mage\u001b[0m \u001b[1;33m=\u001b[0m \u001b[0mage\u001b[0m\u001b[1;33m\u001b[0m\u001b[1;33m\u001b[0m\u001b[0m\n",
      "\u001b[1;31mException\u001b[0m: Age can not be greater then 80 and less then 16"
     ]
    }
   ],
   "source": [
    "\n",
    "class Student():\n",
    "    def __init__(self,name,age):\n",
    "        if age > 80 or age <16:\n",
    "            raise Exception(\"Age can not be greater then 80 and less then 16\")\n",
    "        self.name = name\n",
    "        self.age = age\n",
    "\n",
    "st = Student(\"Hello\",600)\n",
    "print(st.age)"
   ]
  },
  {
   "cell_type": "code",
   "execution_count": 48,
   "metadata": {},
   "outputs": [
    {
     "name": "stdout",
     "output_type": "stream",
     "text": [
      "Exception Age can not be greater then 80\n"
     ]
    }
   ],
   "source": [
    "class Student():\n",
    "    def __init__(self,name,age):\n",
    "        if age > 80:\n",
    "            raise Exception(\"Age can not be greater then 80\")\n",
    "        self.name = name\n",
    "        self.age = age\n",
    "\n",
    "try:\n",
    "    st = Student(\"Hello\",600)\n",
    "except Exception as e:\n",
    "    print(\"Exception \"+str(e))\n",
    "else :\n",
    "    print(st.age)"
   ]
  },
  {
   "cell_type": "code",
   "execution_count": 49,
   "metadata": {},
   "outputs": [
    {
     "ename": "StudentAgeException",
     "evalue": "Age can not be greater then 80 and less then 16",
     "output_type": "error",
     "traceback": [
      "\u001b[1;31m---------------------------------------------------------------------------\u001b[0m",
      "\u001b[1;31mStudentAgeException\u001b[0m                       Traceback (most recent call last)",
      "\u001b[1;32m<ipython-input-49-261e353f1c85>\u001b[0m in \u001b[0;36m<module>\u001b[1;34m\u001b[0m\n\u001b[0;32m     10\u001b[0m \u001b[1;33m\u001b[0m\u001b[0m\n\u001b[0;32m     11\u001b[0m \u001b[1;33m\u001b[0m\u001b[0m\n\u001b[1;32m---> 12\u001b[1;33m \u001b[0mst\u001b[0m \u001b[1;33m=\u001b[0m \u001b[0mStudent\u001b[0m\u001b[1;33m(\u001b[0m\u001b[1;34m\"Hello\"\u001b[0m\u001b[1;33m,\u001b[0m\u001b[1;36m600\u001b[0m\u001b[1;33m)\u001b[0m\u001b[1;33m\u001b[0m\u001b[1;33m\u001b[0m\u001b[0m\n\u001b[0m\u001b[0;32m     13\u001b[0m \u001b[0mprint\u001b[0m\u001b[1;33m(\u001b[0m\u001b[0mst\u001b[0m\u001b[1;33m.\u001b[0m\u001b[0mage\u001b[0m\u001b[1;33m)\u001b[0m\u001b[1;33m\u001b[0m\u001b[1;33m\u001b[0m\u001b[0m\n",
      "\u001b[1;32m<ipython-input-49-261e353f1c85>\u001b[0m in \u001b[0;36m__init__\u001b[1;34m(self, name, age)\u001b[0m\n\u001b[0;32m      2\u001b[0m     \u001b[1;32mdef\u001b[0m \u001b[0m__init__\u001b[0m\u001b[1;33m(\u001b[0m\u001b[0mself\u001b[0m\u001b[1;33m,\u001b[0m\u001b[0mname\u001b[0m\u001b[1;33m,\u001b[0m\u001b[0mage\u001b[0m\u001b[1;33m)\u001b[0m\u001b[1;33m:\u001b[0m\u001b[1;33m\u001b[0m\u001b[1;33m\u001b[0m\u001b[0m\n\u001b[0;32m      3\u001b[0m         \u001b[1;32mif\u001b[0m \u001b[0mage\u001b[0m \u001b[1;33m>\u001b[0m \u001b[1;36m80\u001b[0m \u001b[1;32mor\u001b[0m \u001b[0mage\u001b[0m \u001b[1;33m<\u001b[0m\u001b[1;36m16\u001b[0m\u001b[1;33m:\u001b[0m\u001b[1;33m\u001b[0m\u001b[1;33m\u001b[0m\u001b[0m\n\u001b[1;32m----> 4\u001b[1;33m             \u001b[1;32mraise\u001b[0m \u001b[0mStudentAgeException\u001b[0m\u001b[1;33m(\u001b[0m\u001b[1;34m\"Age can not be greater then 80 and less then 16\"\u001b[0m\u001b[1;33m)\u001b[0m\u001b[1;33m\u001b[0m\u001b[1;33m\u001b[0m\u001b[0m\n\u001b[0m\u001b[0;32m      5\u001b[0m         \u001b[0mself\u001b[0m\u001b[1;33m.\u001b[0m\u001b[0mname\u001b[0m \u001b[1;33m=\u001b[0m \u001b[0mname\u001b[0m\u001b[1;33m\u001b[0m\u001b[1;33m\u001b[0m\u001b[0m\n\u001b[0;32m      6\u001b[0m         \u001b[0mself\u001b[0m\u001b[1;33m.\u001b[0m\u001b[0mage\u001b[0m \u001b[1;33m=\u001b[0m \u001b[0mage\u001b[0m\u001b[1;33m\u001b[0m\u001b[1;33m\u001b[0m\u001b[0m\n",
      "\u001b[1;31mStudentAgeException\u001b[0m: Age can not be greater then 80 and less then 16"
     ]
    }
   ],
   "source": [
    "class Student():\n",
    "    def __init__(self,name,age):\n",
    "        if age > 80 or age <16:\n",
    "            raise StudentAgeException(\"Age can not be greater then 80 and less then 16\")\n",
    "        self.name = name\n",
    "        self.age = age\n",
    "\n",
    "class StudentAgeException(Exception):\n",
    "    pass\n",
    "\n",
    "\n",
    "st = Student(\"Hello\",600)\n",
    "print(st.age)"
   ]
  },
  {
   "cell_type": "code",
   "execution_count": 50,
   "metadata": {},
   "outputs": [
    {
     "name": "stdout",
     "output_type": "stream",
     "text": [
      "StudentAgeException == Age can not be greater then 80 and less then 16\n"
     ]
    }
   ],
   "source": [
    "class Student():\n",
    "    def __init__(self,name,age):\n",
    "        if age > 80 or age <16:\n",
    "            raise StudentAgeException(\"Age can not be greater then 80 and less then 16\")\n",
    "        self.name = name\n",
    "        self.age = age\n",
    "\n",
    "class StudentAgeException(Exception):\n",
    "    pass\n",
    "\n",
    "\n",
    "try:\n",
    "    st = Student(\"Hello\",600)\n",
    "except StudentAgeException as e:\n",
    "    print(\"StudentAgeException == \"+str(e))\n",
    "else :\n",
    "    print(st.age)"
   ]
  },
  {
   "cell_type": "code",
   "execution_count": 55,
   "metadata": {},
   "outputs": [
    {
     "name": "stdout",
     "output_type": "stream",
     "text": [
      "ajdkh==  can only concatenate str (not \"int\") to str\n",
      "sdsd\n"
     ]
    }
   ],
   "source": [
    "a=\"klll\"\n",
    "b=5\n",
    "\n",
    "try:\n",
    "    c = a + 5\n",
    "    print(c)\n",
    "except Exception as e:\n",
    "    print(\"ajdkh== \" , e )\n",
    "    \n",
    "print(\"sdsd\")"
   ]
  },
  {
   "cell_type": "code",
   "execution_count": 54,
   "metadata": {},
   "outputs": [
    {
     "name": "stdout",
     "output_type": "stream",
     "text": [
      "0.8333333333333334\n",
      "ajdkh==  [Errno 2] No such file or directory: 'abc.txt'\n"
     ]
    }
   ],
   "source": [
    "a= 5\n",
    "b = 6\n",
    "\n",
    "\n",
    "try:\n",
    "    c = a /b\n",
    "    print(c)\n",
    "except Exception as e:\n",
    "    print(\"ajdkh== \" , e )\n",
    "\n",
    "try:\n",
    "    open(\"abc.txt\")\n",
    "#     print(c)\n",
    "except Exception as e:\n",
    "    print(\"ajdkh== \" , e )"
   ]
  },
  {
   "cell_type": "markdown",
   "metadata": {},
   "source": [
    "<h2>File handling</h2>"
   ]
  },
  {
   "cell_type": "code",
   "execution_count": 60,
   "metadata": {},
   "outputs": [
    {
     "name": "stdout",
     "output_type": "stream",
     "text": [
      "zkjcnskjc\n",
      "jaD;JK\n",
      "JKAS'dbjBAJBASD\n",
      "SDFSD\n",
      "\n",
      "E\n",
      "WESF\n",
      "SD\n",
      "\n",
      "\n",
      "\n",
      "SDCAS\n"
     ]
    }
   ],
   "source": [
    "data = open(\"demo.txt\")\n",
    "d = data.read()\n",
    "print(d)\n"
   ]
  },
  {
   "cell_type": "code",
   "execution_count": 61,
   "metadata": {},
   "outputs": [
    {
     "data": {
      "text/plain": [
       "\"zkjcnskjc\\njaD;JK\\nJKAS'dbjBAJBASD\\nSDFSD\\n\\nE\\nWESF\\nSD\\n\\n\\n\\nSDCAS\""
      ]
     },
     "execution_count": 61,
     "metadata": {},
     "output_type": "execute_result"
    }
   ],
   "source": [
    "d"
   ]
  },
  {
   "cell_type": "code",
   "execution_count": 63,
   "metadata": {},
   "outputs": [],
   "source": [
    "data.close()"
   ]
  },
  {
   "cell_type": "code",
   "execution_count": 64,
   "metadata": {},
   "outputs": [
    {
     "name": "stdout",
     "output_type": "stream",
     "text": [
      "zkjcnskjc\n",
      "jaD;JK\n",
      "JKAS'dbjBAJBASD\n",
      "SDFSD\n",
      "\n",
      "E\n",
      "WESF\n",
      "SD\n",
      "\n",
      "\n",
      "\n",
      "SDCAS\n"
     ]
    }
   ],
   "source": [
    "with open(\"demo.txt\") as fileObj: # do dont nee to close the file , whenn do write \"with\"\n",
    "    content = fileObj.read()\n",
    "    print(content)"
   ]
  },
  {
   "cell_type": "code",
   "execution_count": 67,
   "metadata": {},
   "outputs": [
    {
     "name": "stdout",
     "output_type": "stream",
     "text": [
      "zkjcnskjc\n",
      "\n",
      "jaD;JK\n",
      "\n",
      "JKAS'dbjBAJBASD\n",
      "\n",
      "SDFSD\n",
      "\n",
      "\n",
      "\n",
      "E\n",
      "\n",
      "WESF\n",
      "\n",
      "SD\n",
      "\n",
      "\n",
      "\n",
      "\n",
      "\n",
      "\n",
      "\n",
      "SDCAS\n"
     ]
    }
   ],
   "source": [
    "with open(\"demo.txt\") as fileObj: # do dont nee to close the file , whenn do write \"with\"\n",
    "    for ln in fileObj:\n",
    "        print(ln)"
   ]
  },
  {
   "cell_type": "code",
   "execution_count": 68,
   "metadata": {},
   "outputs": [
    {
     "name": "stdout",
     "output_type": "stream",
     "text": [
      "['zkjcnskjc\\n', 'jaD;JK\\n', \"JKAS'dbjBAJBASD\\n\", 'SDFSD\\n', '\\n', 'E\\n', 'WESF\\n', 'SD\\n', '\\n', '\\n', '\\n', 'SDCAS']\n"
     ]
    }
   ],
   "source": [
    "with open(\"demo.txt\") as fileObj: # do dont nee to close the file , whenn do write \"with\"\n",
    "    lines = fileObj.readlines()\n",
    "    print(lines) ## for making list"
   ]
  },
  {
   "cell_type": "code",
   "execution_count": 69,
   "metadata": {},
   "outputs": [
    {
     "data": {
      "text/plain": [
       "'zkjcnskjc\\n'"
      ]
     },
     "execution_count": 69,
     "metadata": {},
     "output_type": "execute_result"
    }
   ],
   "source": [
    "lines[0]"
   ]
  },
  {
   "cell_type": "code",
   "execution_count": null,
   "metadata": {},
   "outputs": [],
   "source": []
  }
 ],
 "metadata": {
  "kernelspec": {
   "display_name": "Python 3",
   "language": "python",
   "name": "python3"
  },
  "language_info": {
   "codemirror_mode": {
    "name": "ipython",
    "version": 3
   },
   "file_extension": ".py",
   "mimetype": "text/x-python",
   "name": "python",
   "nbconvert_exporter": "python",
   "pygments_lexer": "ipython3",
   "version": "3.7.3"
  }
 },
 "nbformat": 4,
 "nbformat_minor": 2
}
