{
 "cells": [
  {
   "cell_type": "code",
   "execution_count": null,
   "metadata": {},
   "outputs": [],
   "source": [
    "# Function List\n",
    "num = int(input(\"enter a number\")) # int() it make a string ot integer (integer is whole num ex 0 ,2 ,10)\n",
    "num = str() # is for converting to string\n",
    "num = float() # float() it make a string to decimal number (for example if a user enter a string in input \"3.65\" than it convert it to decimal number)\n",
    "print(type(num)) # type is for checking type i.e class <str>, class <int> , class <list>\n"
   ]
  },
  {
   "cell_type": "code",
   "execution_count": 7,
   "metadata": {},
   "outputs": [
    {
     "name": "stdout",
     "output_type": "stream",
     "text": [
      "140719273579456\n",
      "140719273581056\n",
      "140719273579488\n"
     ]
    }
   ],
   "source": [
    "print(id(5))\n",
    "print(id(55))\n",
    "print(id(6))"
   ]
  },
  {
   "cell_type": "code",
   "execution_count": null,
   "metadata": {},
   "outputs": [],
   "source": []
  }
 ],
 "metadata": {
  "kernelspec": {
   "display_name": "Python 3",
   "language": "python",
   "name": "python3"
  },
  "language_info": {
   "codemirror_mode": {
    "name": "ipython",
    "version": 3
   },
   "file_extension": ".py",
   "mimetype": "text/x-python",
   "name": "python",
   "nbconvert_exporter": "python",
   "pygments_lexer": "ipython3",
   "version": "3.7.3"
  }
 },
 "nbformat": 4,
 "nbformat_minor": 2
}
